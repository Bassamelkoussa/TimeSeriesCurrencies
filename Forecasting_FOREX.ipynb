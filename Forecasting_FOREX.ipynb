{
  "cells": [
    {
      "cell_type": "markdown",
      "metadata": {
        "id": "view-in-github",
        "colab_type": "text"
      },
      "source": [
        "<a href=\"https://colab.research.google.com/github/Bassamelkoussa/TimeSeriesCurrencies/blob/main/Forecasting_FOREX.ipynb\" target=\"_parent\"><img src=\"https://colab.research.google.com/assets/colab-badge.svg\" alt=\"Open In Colab\"/></a>"
      ]
    },
    {
      "cell_type": "markdown",
      "metadata": {
        "id": "deGTgPKSiqOJ"
      },
      "source": [
        "# Forecasting Time Series FOREX\n",
        "\n",
        "The task is to predict the exchange rate of the Euro to the US dollar, given past observations on EUR/USD, GBP/USD, and JPY/USD."
      ]
    },
    {
      "cell_type": "code",
      "execution_count": null,
      "metadata": {
        "id": "MGyeH4KxiqOL"
      },
      "outputs": [],
      "source": [
        "# setting logging to print only error messages from Sklearnex\n",
        "import logging\n",
        "logging.basicConfig()\n",
        "logging.getLogger(\"SKLEARNEX\").setLevel(logging.ERROR)\n",
        "\n",
        "import pandas as pd\n",
        "import numpy as np\n",
        "import matplotlib.pyplot as plt\n",
        "import statsmodels.api as sm\n",
        "import seaborn as sns\n",
        "\n",
        "from sklearn.metrics import mean_squared_error\n",
        "\n",
        "import warnings\n",
        "warnings.filterwarnings(\"ignore\")\n",
        "\n",
        "sns.set_theme(palette=\"Set2\")\n",
        "\n",
        "\n",
        "def get_mda(y, yhat):\n",
        "    \"\"\"Mean Directional Accuracy, as per:\n",
        "    https://www.wikiwand.com/en/Mean_Directional_Accuracy\n",
        "    \"\"\"\n",
        "    a = np.sign(np.diff(y))\n",
        "    b = np.sign(np.diff(yhat))\n",
        "    return np.sum(a == b)/a.shape[0]"
      ]
    },
    {
      "cell_type": "markdown",
      "metadata": {
        "id": "x4pgttGtiqON"
      },
      "source": [
        "# Step 1. Load data"
      ]
    },
    {
      "cell_type": "code",
      "execution_count": null,
      "metadata": {
        "id": "xMNjicfuiqON"
      },
      "outputs": [],
      "source": [
        "df = pd.read_csv(\"currencies.csv\")"
      ]
    },
    {
      "cell_type": "code",
      "execution_count": null,
      "metadata": {
        "colab": {
          "base_uri": "https://localhost:8080/",
          "height": 206
        },
        "id": "wo_h2qf9iqON",
        "outputId": "6c86fde1-864a-4e02-f3d4-530b2155fa4a"
      },
      "outputs": [
        {
          "data": {
            "text/html": [
              "\n",
              "  <div id=\"df-51ce2d6a-242d-4012-97df-b76880019332\">\n",
              "    <div class=\"colab-df-container\">\n",
              "      <div>\n",
              "<style scoped>\n",
              "    .dataframe tbody tr th:only-of-type {\n",
              "        vertical-align: middle;\n",
              "    }\n",
              "\n",
              "    .dataframe tbody tr th {\n",
              "        vertical-align: top;\n",
              "    }\n",
              "\n",
              "    .dataframe thead th {\n",
              "        text-align: right;\n",
              "    }\n",
              "</style>\n",
              "<table border=\"1\" class=\"dataframe\">\n",
              "  <thead>\n",
              "    <tr style=\"text-align: right;\">\n",
              "      <th></th>\n",
              "      <th>Date</th>\n",
              "      <th>EUR</th>\n",
              "      <th>GBP</th>\n",
              "      <th>JPY</th>\n",
              "    </tr>\n",
              "  </thead>\n",
              "  <tbody>\n",
              "    <tr>\n",
              "      <th>0</th>\n",
              "      <td>07jul2002</td>\n",
              "      <td>1.0274</td>\n",
              "      <td>0.6575</td>\n",
              "      <td>120.21</td>\n",
              "    </tr>\n",
              "    <tr>\n",
              "      <th>1</th>\n",
              "      <td>08jul2002</td>\n",
              "      <td>1.0261</td>\n",
              "      <td>0.6570</td>\n",
              "      <td>120.04</td>\n",
              "    </tr>\n",
              "    <tr>\n",
              "      <th>2</th>\n",
              "      <td>09jul2002</td>\n",
              "      <td>1.0096</td>\n",
              "      <td>0.6474</td>\n",
              "      <td>118.40</td>\n",
              "    </tr>\n",
              "    <tr>\n",
              "      <th>3</th>\n",
              "      <td>10jul2002</td>\n",
              "      <td>1.0065</td>\n",
              "      <td>0.6457</td>\n",
              "      <td>118.06</td>\n",
              "    </tr>\n",
              "    <tr>\n",
              "      <th>4</th>\n",
              "      <td>11jul2002</td>\n",
              "      <td>1.0119</td>\n",
              "      <td>0.6463</td>\n",
              "      <td>117.69</td>\n",
              "    </tr>\n",
              "  </tbody>\n",
              "</table>\n",
              "</div>\n",
              "      <button class=\"colab-df-convert\" onclick=\"convertToInteractive('df-51ce2d6a-242d-4012-97df-b76880019332')\"\n",
              "              title=\"Convert this dataframe to an interactive table.\"\n",
              "              style=\"display:none;\">\n",
              "        \n",
              "  <svg xmlns=\"http://www.w3.org/2000/svg\" height=\"24px\"viewBox=\"0 0 24 24\"\n",
              "       width=\"24px\">\n",
              "    <path d=\"M0 0h24v24H0V0z\" fill=\"none\"/>\n",
              "    <path d=\"M18.56 5.44l.94 2.06.94-2.06 2.06-.94-2.06-.94-.94-2.06-.94 2.06-2.06.94zm-11 1L8.5 8.5l.94-2.06 2.06-.94-2.06-.94L8.5 2.5l-.94 2.06-2.06.94zm10 10l.94 2.06.94-2.06 2.06-.94-2.06-.94-.94-2.06-.94 2.06-2.06.94z\"/><path d=\"M17.41 7.96l-1.37-1.37c-.4-.4-.92-.59-1.43-.59-.52 0-1.04.2-1.43.59L10.3 9.45l-7.72 7.72c-.78.78-.78 2.05 0 2.83L4 21.41c.39.39.9.59 1.41.59.51 0 1.02-.2 1.41-.59l7.78-7.78 2.81-2.81c.8-.78.8-2.07 0-2.86zM5.41 20L4 18.59l7.72-7.72 1.47 1.35L5.41 20z\"/>\n",
              "  </svg>\n",
              "      </button>\n",
              "      \n",
              "  <style>\n",
              "    .colab-df-container {\n",
              "      display:flex;\n",
              "      flex-wrap:wrap;\n",
              "      gap: 12px;\n",
              "    }\n",
              "\n",
              "    .colab-df-convert {\n",
              "      background-color: #E8F0FE;\n",
              "      border: none;\n",
              "      border-radius: 50%;\n",
              "      cursor: pointer;\n",
              "      display: none;\n",
              "      fill: #1967D2;\n",
              "      height: 32px;\n",
              "      padding: 0 0 0 0;\n",
              "      width: 32px;\n",
              "    }\n",
              "\n",
              "    .colab-df-convert:hover {\n",
              "      background-color: #E2EBFA;\n",
              "      box-shadow: 0px 1px 2px rgba(60, 64, 67, 0.3), 0px 1px 3px 1px rgba(60, 64, 67, 0.15);\n",
              "      fill: #174EA6;\n",
              "    }\n",
              "\n",
              "    [theme=dark] .colab-df-convert {\n",
              "      background-color: #3B4455;\n",
              "      fill: #D2E3FC;\n",
              "    }\n",
              "\n",
              "    [theme=dark] .colab-df-convert:hover {\n",
              "      background-color: #434B5C;\n",
              "      box-shadow: 0px 1px 3px 1px rgba(0, 0, 0, 0.15);\n",
              "      filter: drop-shadow(0px 1px 2px rgba(0, 0, 0, 0.3));\n",
              "      fill: #FFFFFF;\n",
              "    }\n",
              "  </style>\n",
              "\n",
              "      <script>\n",
              "        const buttonEl =\n",
              "          document.querySelector('#df-51ce2d6a-242d-4012-97df-b76880019332 button.colab-df-convert');\n",
              "        buttonEl.style.display =\n",
              "          google.colab.kernel.accessAllowed ? 'block' : 'none';\n",
              "\n",
              "        async function convertToInteractive(key) {\n",
              "          const element = document.querySelector('#df-51ce2d6a-242d-4012-97df-b76880019332');\n",
              "          const dataTable =\n",
              "            await google.colab.kernel.invokeFunction('convertToInteractive',\n",
              "                                                     [key], {});\n",
              "          if (!dataTable) return;\n",
              "\n",
              "          const docLinkHtml = 'Like what you see? Visit the ' +\n",
              "            '<a target=\"_blank\" href=https://colab.research.google.com/notebooks/data_table.ipynb>data table notebook</a>'\n",
              "            + ' to learn more about interactive tables.';\n",
              "          element.innerHTML = '';\n",
              "          dataTable['output_type'] = 'display_data';\n",
              "          await google.colab.output.renderOutput(dataTable, element);\n",
              "          const docLink = document.createElement('div');\n",
              "          docLink.innerHTML = docLinkHtml;\n",
              "          element.appendChild(docLink);\n",
              "        }\n",
              "      </script>\n",
              "    </div>\n",
              "  </div>\n",
              "  "
            ],
            "text/plain": [
              "        Date     EUR     GBP     JPY\n",
              "0  07jul2002  1.0274  0.6575  120.21\n",
              "1  08jul2002  1.0261  0.6570  120.04\n",
              "2  09jul2002  1.0096  0.6474  118.40\n",
              "3  10jul2002  1.0065  0.6457  118.06\n",
              "4  11jul2002  1.0119  0.6463  117.69"
            ]
          },
          "execution_count": 4,
          "metadata": {},
          "output_type": "execute_result"
        }
      ],
      "source": [
        "df.head()"
      ]
    },
    {
      "cell_type": "code",
      "execution_count": null,
      "metadata": {
        "colab": {
          "base_uri": "https://localhost:8080/"
        },
        "id": "dDsULHe2iqOO",
        "outputId": "9181e383-a395-486b-b67c-c364a0bae409"
      },
      "outputs": [
        {
          "name": "stdout",
          "output_type": "stream",
          "text": [
            "<class 'pandas.core.frame.DataFrame'>\n",
            "RangeIndex: 3988 entries, 0 to 3987\n",
            "Data columns (total 4 columns):\n",
            " #   Column  Non-Null Count  Dtype  \n",
            "---  ------  --------------  -----  \n",
            " 0   Date    3988 non-null   object \n",
            " 1   EUR     3988 non-null   float64\n",
            " 2   GBP     3988 non-null   float64\n",
            " 3   JPY     3988 non-null   float64\n",
            "dtypes: float64(3), object(1)\n",
            "memory usage: 124.8+ KB\n"
          ]
        }
      ],
      "source": [
        "df.info()"
      ]
    },
    {
      "cell_type": "markdown",
      "metadata": {
        "id": "bUgqVv0riqOP"
      },
      "source": [
        "Convert the Date column to datetime:"
      ]
    },
    {
      "cell_type": "code",
      "execution_count": null,
      "metadata": {
        "id": "-WoMGlGfiqOP"
      },
      "outputs": [],
      "source": [
        "df['Date'] = pd.to_datetime(df['Date'], format=\"%d%b%Y\")"
      ]
    },
    {
      "cell_type": "markdown",
      "metadata": {
        "id": "NaOaPFwIiqOP"
      },
      "source": [
        "Set the Date column to be the index in the dataframe:"
      ]
    },
    {
      "cell_type": "code",
      "execution_count": null,
      "metadata": {
        "id": "szVpdMpMiqOQ"
      },
      "outputs": [],
      "source": [
        "df.set_index(\"Date\", inplace=True)"
      ]
    },
    {
      "cell_type": "code",
      "execution_count": null,
      "metadata": {
        "colab": {
          "base_uri": "https://localhost:8080/"
        },
        "id": "EgB7GSmjiqOQ",
        "outputId": "d4da3dbb-9d0f-4676-ec57-d7fc79214e9f"
      },
      "outputs": [
        {
          "data": {
            "text/plain": [
              "(3988, 3)"
            ]
          },
          "execution_count": 8,
          "metadata": {},
          "output_type": "execute_result"
        }
      ],
      "source": [
        "df.shape"
      ]
    },
    {
      "cell_type": "code",
      "execution_count": null,
      "metadata": {
        "colab": {
          "base_uri": "https://localhost:8080/"
        },
        "id": "udR4yUtiiqOQ",
        "outputId": "04112c39-00a7-4efb-cafd-08143cda33db"
      },
      "outputs": [
        {
          "data": {
            "text/plain": [
              "(Timestamp('2002-07-07 00:00:00'), Timestamp('2013-06-06 00:00:00'))"
            ]
          },
          "execution_count": 9,
          "metadata": {},
          "output_type": "execute_result"
        }
      ],
      "source": [
        "df.index.min(), df.index.max()"
      ]
    },
    {
      "cell_type": "markdown",
      "metadata": {
        "id": "dH0yA6pwiqOQ"
      },
      "source": [
        "There are 3988 daily observations between 07.07.2002 and 06.06.2013.\n",
        "\n",
        "Check the number of missing values:"
      ]
    },
    {
      "cell_type": "code",
      "execution_count": null,
      "metadata": {
        "colab": {
          "base_uri": "https://localhost:8080/"
        },
        "id": "8gtl5zEZiqOR",
        "outputId": "ac9bdac1-13b9-406a-9718-96699ba2b65f"
      },
      "outputs": [
        {
          "data": {
            "text/plain": [
              "EUR    0\n",
              "GBP    0\n",
              "JPY    0\n",
              "dtype: int64"
            ]
          },
          "execution_count": 10,
          "metadata": {},
          "output_type": "execute_result"
        }
      ],
      "source": [
        "df.isnull().sum()"
      ]
    },
    {
      "cell_type": "markdown",
      "metadata": {
        "id": "Qu3vnLSpiqOR"
      },
      "source": [
        "# Step 2. Train-test split\n",
        "\n",
        "We will use random sampling, as there is no independent variable to control for."
      ]
    },
    {
      "cell_type": "code",
      "execution_count": null,
      "metadata": {
        "colab": {
          "base_uri": "https://localhost:8080/"
        },
        "id": "W8twTPCciqOR",
        "outputId": "c42f9247-6099-4faf-edb8-036b2621702f"
      },
      "outputs": [
        {
          "name": "stdout",
          "output_type": "stream",
          "text": [
            "3190 train and 798 test instances\n"
          ]
        }
      ],
      "source": [
        "from sklearn.model_selection import train_test_split\n",
        "\n",
        "train_set, test_set = train_test_split(df, test_size=0.2, random_state=7, shuffle=False)\n",
        "train_set.columns = df.columns\n",
        "test_set.columns = df.columns\n",
        "print(f\"{train_set.shape[0]} train and {test_set.shape[0]} test instances\")"
      ]
    },
    {
      "cell_type": "code",
      "execution_count": null,
      "metadata": {
        "colab": {
          "base_uri": "https://localhost:8080/",
          "height": 455
        },
        "id": "9x7SVEuHiqOR",
        "outputId": "21e8bfa7-0b72-4083-d615-3ef25cbc31f7"
      },
      "outputs": [
        {
          "data": {
            "text/html": [
              "\n",
              "  <div id=\"df-c0c49be9-8c48-415c-bcc9-027e572cd924\">\n",
              "    <div class=\"colab-df-container\">\n",
              "      <div>\n",
              "<style scoped>\n",
              "    .dataframe tbody tr th:only-of-type {\n",
              "        vertical-align: middle;\n",
              "    }\n",
              "\n",
              "    .dataframe tbody tr th {\n",
              "        vertical-align: top;\n",
              "    }\n",
              "\n",
              "    .dataframe thead th {\n",
              "        text-align: right;\n",
              "    }\n",
              "</style>\n",
              "<table border=\"1\" class=\"dataframe\">\n",
              "  <thead>\n",
              "    <tr style=\"text-align: right;\">\n",
              "      <th></th>\n",
              "      <th>EUR</th>\n",
              "      <th>GBP</th>\n",
              "      <th>JPY</th>\n",
              "    </tr>\n",
              "    <tr>\n",
              "      <th>Date</th>\n",
              "      <th></th>\n",
              "      <th></th>\n",
              "      <th></th>\n",
              "    </tr>\n",
              "  </thead>\n",
              "  <tbody>\n",
              "    <tr>\n",
              "      <th>2002-07-07</th>\n",
              "      <td>1.0274</td>\n",
              "      <td>0.6575</td>\n",
              "      <td>120.2100</td>\n",
              "    </tr>\n",
              "    <tr>\n",
              "      <th>2002-07-08</th>\n",
              "      <td>1.0261</td>\n",
              "      <td>0.6570</td>\n",
              "      <td>120.0400</td>\n",
              "    </tr>\n",
              "    <tr>\n",
              "      <th>2002-07-09</th>\n",
              "      <td>1.0096</td>\n",
              "      <td>0.6474</td>\n",
              "      <td>118.4000</td>\n",
              "    </tr>\n",
              "    <tr>\n",
              "      <th>2002-07-10</th>\n",
              "      <td>1.0065</td>\n",
              "      <td>0.6457</td>\n",
              "      <td>118.0600</td>\n",
              "    </tr>\n",
              "    <tr>\n",
              "      <th>2002-07-11</th>\n",
              "      <td>1.0119</td>\n",
              "      <td>0.6463</td>\n",
              "      <td>117.6900</td>\n",
              "    </tr>\n",
              "    <tr>\n",
              "      <th>...</th>\n",
              "      <td>...</td>\n",
              "      <td>...</td>\n",
              "      <td>...</td>\n",
              "    </tr>\n",
              "    <tr>\n",
              "      <th>2011-03-27</th>\n",
              "      <td>0.7101</td>\n",
              "      <td>0.6236</td>\n",
              "      <td>81.4140</td>\n",
              "    </tr>\n",
              "    <tr>\n",
              "      <th>2011-03-28</th>\n",
              "      <td>0.7104</td>\n",
              "      <td>0.6237</td>\n",
              "      <td>81.4199</td>\n",
              "    </tr>\n",
              "    <tr>\n",
              "      <th>2011-03-29</th>\n",
              "      <td>0.7110</td>\n",
              "      <td>0.6250</td>\n",
              "      <td>81.6779</td>\n",
              "    </tr>\n",
              "    <tr>\n",
              "      <th>2011-03-30</th>\n",
              "      <td>0.7097</td>\n",
              "      <td>0.6252</td>\n",
              "      <td>81.9924</td>\n",
              "    </tr>\n",
              "    <tr>\n",
              "      <th>2011-03-31</th>\n",
              "      <td>0.7093</td>\n",
              "      <td>0.6238</td>\n",
              "      <td>82.8699</td>\n",
              "    </tr>\n",
              "  </tbody>\n",
              "</table>\n",
              "<p>3190 rows × 3 columns</p>\n",
              "</div>\n",
              "      <button class=\"colab-df-convert\" onclick=\"convertToInteractive('df-c0c49be9-8c48-415c-bcc9-027e572cd924')\"\n",
              "              title=\"Convert this dataframe to an interactive table.\"\n",
              "              style=\"display:none;\">\n",
              "        \n",
              "  <svg xmlns=\"http://www.w3.org/2000/svg\" height=\"24px\"viewBox=\"0 0 24 24\"\n",
              "       width=\"24px\">\n",
              "    <path d=\"M0 0h24v24H0V0z\" fill=\"none\"/>\n",
              "    <path d=\"M18.56 5.44l.94 2.06.94-2.06 2.06-.94-2.06-.94-.94-2.06-.94 2.06-2.06.94zm-11 1L8.5 8.5l.94-2.06 2.06-.94-2.06-.94L8.5 2.5l-.94 2.06-2.06.94zm10 10l.94 2.06.94-2.06 2.06-.94-2.06-.94-.94-2.06-.94 2.06-2.06.94z\"/><path d=\"M17.41 7.96l-1.37-1.37c-.4-.4-.92-.59-1.43-.59-.52 0-1.04.2-1.43.59L10.3 9.45l-7.72 7.72c-.78.78-.78 2.05 0 2.83L4 21.41c.39.39.9.59 1.41.59.51 0 1.02-.2 1.41-.59l7.78-7.78 2.81-2.81c.8-.78.8-2.07 0-2.86zM5.41 20L4 18.59l7.72-7.72 1.47 1.35L5.41 20z\"/>\n",
              "  </svg>\n",
              "      </button>\n",
              "      \n",
              "  <style>\n",
              "    .colab-df-container {\n",
              "      display:flex;\n",
              "      flex-wrap:wrap;\n",
              "      gap: 12px;\n",
              "    }\n",
              "\n",
              "    .colab-df-convert {\n",
              "      background-color: #E8F0FE;\n",
              "      border: none;\n",
              "      border-radius: 50%;\n",
              "      cursor: pointer;\n",
              "      display: none;\n",
              "      fill: #1967D2;\n",
              "      height: 32px;\n",
              "      padding: 0 0 0 0;\n",
              "      width: 32px;\n",
              "    }\n",
              "\n",
              "    .colab-df-convert:hover {\n",
              "      background-color: #E2EBFA;\n",
              "      box-shadow: 0px 1px 2px rgba(60, 64, 67, 0.3), 0px 1px 3px 1px rgba(60, 64, 67, 0.15);\n",
              "      fill: #174EA6;\n",
              "    }\n",
              "\n",
              "    [theme=dark] .colab-df-convert {\n",
              "      background-color: #3B4455;\n",
              "      fill: #D2E3FC;\n",
              "    }\n",
              "\n",
              "    [theme=dark] .colab-df-convert:hover {\n",
              "      background-color: #434B5C;\n",
              "      box-shadow: 0px 1px 3px 1px rgba(0, 0, 0, 0.15);\n",
              "      filter: drop-shadow(0px 1px 2px rgba(0, 0, 0, 0.3));\n",
              "      fill: #FFFFFF;\n",
              "    }\n",
              "  </style>\n",
              "\n",
              "      <script>\n",
              "        const buttonEl =\n",
              "          document.querySelector('#df-c0c49be9-8c48-415c-bcc9-027e572cd924 button.colab-df-convert');\n",
              "        buttonEl.style.display =\n",
              "          google.colab.kernel.accessAllowed ? 'block' : 'none';\n",
              "\n",
              "        async function convertToInteractive(key) {\n",
              "          const element = document.querySelector('#df-c0c49be9-8c48-415c-bcc9-027e572cd924');\n",
              "          const dataTable =\n",
              "            await google.colab.kernel.invokeFunction('convertToInteractive',\n",
              "                                                     [key], {});\n",
              "          if (!dataTable) return;\n",
              "\n",
              "          const docLinkHtml = 'Like what you see? Visit the ' +\n",
              "            '<a target=\"_blank\" href=https://colab.research.google.com/notebooks/data_table.ipynb>data table notebook</a>'\n",
              "            + ' to learn more about interactive tables.';\n",
              "          element.innerHTML = '';\n",
              "          dataTable['output_type'] = 'display_data';\n",
              "          await google.colab.output.renderOutput(dataTable, element);\n",
              "          const docLink = document.createElement('div');\n",
              "          docLink.innerHTML = docLinkHtml;\n",
              "          element.appendChild(docLink);\n",
              "        }\n",
              "      </script>\n",
              "    </div>\n",
              "  </div>\n",
              "  "
            ],
            "text/plain": [
              "               EUR     GBP       JPY\n",
              "Date                                \n",
              "2002-07-07  1.0274  0.6575  120.2100\n",
              "2002-07-08  1.0261  0.6570  120.0400\n",
              "2002-07-09  1.0096  0.6474  118.4000\n",
              "2002-07-10  1.0065  0.6457  118.0600\n",
              "2002-07-11  1.0119  0.6463  117.6900\n",
              "...            ...     ...       ...\n",
              "2011-03-27  0.7101  0.6236   81.4140\n",
              "2011-03-28  0.7104  0.6237   81.4199\n",
              "2011-03-29  0.7110  0.6250   81.6779\n",
              "2011-03-30  0.7097  0.6252   81.9924\n",
              "2011-03-31  0.7093  0.6238   82.8699\n",
              "\n",
              "[3190 rows x 3 columns]"
            ]
          },
          "execution_count": 12,
          "metadata": {},
          "output_type": "execute_result"
        }
      ],
      "source": [
        "train_set"
      ]
    },
    {
      "cell_type": "code",
      "execution_count": null,
      "metadata": {
        "colab": {
          "base_uri": "https://localhost:8080/",
          "height": 455
        },
        "id": "dYOJuipriqOS",
        "outputId": "248a00fc-8e48-4c58-dd3b-246ace84a341"
      },
      "outputs": [
        {
          "data": {
            "text/html": [
              "\n",
              "  <div id=\"df-04595877-bcfb-46b6-b497-205e1afdcc6d\">\n",
              "    <div class=\"colab-df-container\">\n",
              "      <div>\n",
              "<style scoped>\n",
              "    .dataframe tbody tr th:only-of-type {\n",
              "        vertical-align: middle;\n",
              "    }\n",
              "\n",
              "    .dataframe tbody tr th {\n",
              "        vertical-align: top;\n",
              "    }\n",
              "\n",
              "    .dataframe thead th {\n",
              "        text-align: right;\n",
              "    }\n",
              "</style>\n",
              "<table border=\"1\" class=\"dataframe\">\n",
              "  <thead>\n",
              "    <tr style=\"text-align: right;\">\n",
              "      <th></th>\n",
              "      <th>EUR</th>\n",
              "      <th>GBP</th>\n",
              "      <th>JPY</th>\n",
              "    </tr>\n",
              "    <tr>\n",
              "      <th>Date</th>\n",
              "      <th></th>\n",
              "      <th></th>\n",
              "      <th></th>\n",
              "    </tr>\n",
              "  </thead>\n",
              "  <tbody>\n",
              "    <tr>\n",
              "      <th>2011-04-01</th>\n",
              "      <td>0.7057</td>\n",
              "      <td>0.6218</td>\n",
              "      <td>82.8939</td>\n",
              "    </tr>\n",
              "    <tr>\n",
              "      <th>2011-04-02</th>\n",
              "      <td>0.7058</td>\n",
              "      <td>0.6229</td>\n",
              "      <td>83.8025</td>\n",
              "    </tr>\n",
              "    <tr>\n",
              "      <th>2011-04-03</th>\n",
              "      <td>0.7026</td>\n",
              "      <td>0.6209</td>\n",
              "      <td>84.1084</td>\n",
              "    </tr>\n",
              "    <tr>\n",
              "      <th>2011-04-04</th>\n",
              "      <td>0.7026</td>\n",
              "      <td>0.6209</td>\n",
              "      <td>84.1250</td>\n",
              "    </tr>\n",
              "    <tr>\n",
              "      <th>2011-04-05</th>\n",
              "      <td>0.7031</td>\n",
              "      <td>0.6198</td>\n",
              "      <td>84.0835</td>\n",
              "    </tr>\n",
              "    <tr>\n",
              "      <th>...</th>\n",
              "      <td>...</td>\n",
              "      <td>...</td>\n",
              "      <td>...</td>\n",
              "    </tr>\n",
              "    <tr>\n",
              "      <th>2013-06-02</th>\n",
              "      <td>0.7696</td>\n",
              "      <td>0.6582</td>\n",
              "      <td>100.5300</td>\n",
              "    </tr>\n",
              "    <tr>\n",
              "      <th>2013-06-03</th>\n",
              "      <td>0.7696</td>\n",
              "      <td>0.6582</td>\n",
              "      <td>100.5300</td>\n",
              "    </tr>\n",
              "    <tr>\n",
              "      <th>2013-06-04</th>\n",
              "      <td>0.7678</td>\n",
              "      <td>0.6554</td>\n",
              "      <td>100.1200</td>\n",
              "    </tr>\n",
              "    <tr>\n",
              "      <th>2013-06-05</th>\n",
              "      <td>0.7651</td>\n",
              "      <td>0.6533</td>\n",
              "      <td>99.9703</td>\n",
              "    </tr>\n",
              "    <tr>\n",
              "      <th>2013-06-06</th>\n",
              "      <td>0.7645</td>\n",
              "      <td>0.6516</td>\n",
              "      <td>99.6745</td>\n",
              "    </tr>\n",
              "  </tbody>\n",
              "</table>\n",
              "<p>798 rows × 3 columns</p>\n",
              "</div>\n",
              "      <button class=\"colab-df-convert\" onclick=\"convertToInteractive('df-04595877-bcfb-46b6-b497-205e1afdcc6d')\"\n",
              "              title=\"Convert this dataframe to an interactive table.\"\n",
              "              style=\"display:none;\">\n",
              "        \n",
              "  <svg xmlns=\"http://www.w3.org/2000/svg\" height=\"24px\"viewBox=\"0 0 24 24\"\n",
              "       width=\"24px\">\n",
              "    <path d=\"M0 0h24v24H0V0z\" fill=\"none\"/>\n",
              "    <path d=\"M18.56 5.44l.94 2.06.94-2.06 2.06-.94-2.06-.94-.94-2.06-.94 2.06-2.06.94zm-11 1L8.5 8.5l.94-2.06 2.06-.94-2.06-.94L8.5 2.5l-.94 2.06-2.06.94zm10 10l.94 2.06.94-2.06 2.06-.94-2.06-.94-.94-2.06-.94 2.06-2.06.94z\"/><path d=\"M17.41 7.96l-1.37-1.37c-.4-.4-.92-.59-1.43-.59-.52 0-1.04.2-1.43.59L10.3 9.45l-7.72 7.72c-.78.78-.78 2.05 0 2.83L4 21.41c.39.39.9.59 1.41.59.51 0 1.02-.2 1.41-.59l7.78-7.78 2.81-2.81c.8-.78.8-2.07 0-2.86zM5.41 20L4 18.59l7.72-7.72 1.47 1.35L5.41 20z\"/>\n",
              "  </svg>\n",
              "      </button>\n",
              "      \n",
              "  <style>\n",
              "    .colab-df-container {\n",
              "      display:flex;\n",
              "      flex-wrap:wrap;\n",
              "      gap: 12px;\n",
              "    }\n",
              "\n",
              "    .colab-df-convert {\n",
              "      background-color: #E8F0FE;\n",
              "      border: none;\n",
              "      border-radius: 50%;\n",
              "      cursor: pointer;\n",
              "      display: none;\n",
              "      fill: #1967D2;\n",
              "      height: 32px;\n",
              "      padding: 0 0 0 0;\n",
              "      width: 32px;\n",
              "    }\n",
              "\n",
              "    .colab-df-convert:hover {\n",
              "      background-color: #E2EBFA;\n",
              "      box-shadow: 0px 1px 2px rgba(60, 64, 67, 0.3), 0px 1px 3px 1px rgba(60, 64, 67, 0.15);\n",
              "      fill: #174EA6;\n",
              "    }\n",
              "\n",
              "    [theme=dark] .colab-df-convert {\n",
              "      background-color: #3B4455;\n",
              "      fill: #D2E3FC;\n",
              "    }\n",
              "\n",
              "    [theme=dark] .colab-df-convert:hover {\n",
              "      background-color: #434B5C;\n",
              "      box-shadow: 0px 1px 3px 1px rgba(0, 0, 0, 0.15);\n",
              "      filter: drop-shadow(0px 1px 2px rgba(0, 0, 0, 0.3));\n",
              "      fill: #FFFFFF;\n",
              "    }\n",
              "  </style>\n",
              "\n",
              "      <script>\n",
              "        const buttonEl =\n",
              "          document.querySelector('#df-04595877-bcfb-46b6-b497-205e1afdcc6d button.colab-df-convert');\n",
              "        buttonEl.style.display =\n",
              "          google.colab.kernel.accessAllowed ? 'block' : 'none';\n",
              "\n",
              "        async function convertToInteractive(key) {\n",
              "          const element = document.querySelector('#df-04595877-bcfb-46b6-b497-205e1afdcc6d');\n",
              "          const dataTable =\n",
              "            await google.colab.kernel.invokeFunction('convertToInteractive',\n",
              "                                                     [key], {});\n",
              "          if (!dataTable) return;\n",
              "\n",
              "          const docLinkHtml = 'Like what you see? Visit the ' +\n",
              "            '<a target=\"_blank\" href=https://colab.research.google.com/notebooks/data_table.ipynb>data table notebook</a>'\n",
              "            + ' to learn more about interactive tables.';\n",
              "          element.innerHTML = '';\n",
              "          dataTable['output_type'] = 'display_data';\n",
              "          await google.colab.output.renderOutput(dataTable, element);\n",
              "          const docLink = document.createElement('div');\n",
              "          docLink.innerHTML = docLinkHtml;\n",
              "          element.appendChild(docLink);\n",
              "        }\n",
              "      </script>\n",
              "    </div>\n",
              "  </div>\n",
              "  "
            ],
            "text/plain": [
              "               EUR     GBP       JPY\n",
              "Date                                \n",
              "2011-04-01  0.7057  0.6218   82.8939\n",
              "2011-04-02  0.7058  0.6229   83.8025\n",
              "2011-04-03  0.7026  0.6209   84.1084\n",
              "2011-04-04  0.7026  0.6209   84.1250\n",
              "2011-04-05  0.7031  0.6198   84.0835\n",
              "...            ...     ...       ...\n",
              "2013-06-02  0.7696  0.6582  100.5300\n",
              "2013-06-03  0.7696  0.6582  100.5300\n",
              "2013-06-04  0.7678  0.6554  100.1200\n",
              "2013-06-05  0.7651  0.6533   99.9703\n",
              "2013-06-06  0.7645  0.6516   99.6745\n",
              "\n",
              "[798 rows x 3 columns]"
            ]
          },
          "execution_count": 13,
          "metadata": {},
          "output_type": "execute_result"
        }
      ],
      "source": [
        "test_set"
      ]
    },
    {
      "cell_type": "markdown",
      "metadata": {
        "id": "3d-kLvBTiqOS"
      },
      "source": [
        "# Step 3. Exploratory Data Analysis\n",
        "\n",
        "Plot the data."
      ]
    },
    {
      "cell_type": "code",
      "execution_count": null,
      "metadata": {
        "colab": {
          "base_uri": "https://localhost:8080/",
          "height": 411
        },
        "id": "0Pv0dlqsiqOS",
        "outputId": "33a533b3-1321-46da-cf85-98b13b2d26ea"
      },
      "outputs": [
        {
          "data": {
            "text/plain": [
              "<matplotlib.axes._subplots.AxesSubplot at 0x7f8772598790>"
            ]
          },
          "execution_count": 14,
          "metadata": {},
          "output_type": "execute_result"
        },
        {
          "data": {
            "image/png": "[encoded data removed]",
            "text/plain": [
              "<Figure size 1152x432 with 3 Axes>"
            ]
          },
          "metadata": {},
          "output_type": "display_data"
        }
      ],
      "source": [
        "plt.subplot(311)\n",
        "train_set['GBP'].plot(figsize=(16, 6), legend=True)\n",
        "plt.subplot(312)\n",
        "train_set['EUR'].plot(figsize=(16, 6), legend=True)\n",
        "plt.subplot(313)\n",
        "train_set['JPY'].plot(figsize=(16, 6), legend=True)"
      ]
    },
    {
      "cell_type": "markdown",
      "metadata": {
        "id": "ok8uvLhniqOT"
      },
      "source": [
        "There appears to be no seasonal component, but the behaviour of GBP and EUR seems to be quite similar, suggesting one can contain useful evidence about the other."
      ]
    },
    {
      "cell_type": "markdown",
      "metadata": {
        "id": "cCwpzcugiqOT"
      },
      "source": [
        "# Step 4. Data cleaning and transformation\n",
        "\n",
        "Before we can build an ARIMA model, we need to ensure the data is **stationary**. We will use the Augmented Dickey-Fuller (ADF) test and the KPSS (Kwiatkowski-Phillips-Schmidt-Shin) tests to test the series for stationarity.\n",
        "\n",
        "We will conduct the tests only on the training data, determine which transformations are necessary, and apply them on both the training and test data.\n",
        "\n",
        "First, conduct stationarity tests on the **levels** (i.e., the original, non-transformed data):"
      ]
    },
    {
      "cell_type": "code",
      "execution_count": null,
      "metadata": {
        "colab": {
          "base_uri": "https://localhost:8080/"
        },
        "id": "JpOYkK5-iqOT",
        "outputId": "93715c98-bd39-4a0a-a36e-c6bde3209d3f"
      },
      "outputs": [
        {
          "name": "stdout",
          "output_type": "stream",
          "text": [
            "GBP\n",
            "ADF, p-value: 0.6007292028354358\n",
            "KPSS, p-value: 0.01\n",
            "EUR\n",
            "ADF, p-value: 0.10839784572915928\n",
            "KPSS, p-value: 0.01\n",
            "JPY\n",
            "ADF, p-value: 0.21383376321527647\n",
            "KPSS, p-value: 0.01\n"
          ]
        }
      ],
      "source": [
        "from statsmodels.tsa.stattools import adfuller, kpss\n",
        "\n",
        "for x in [\"GBP\", \"EUR\", \"JPY\"]:\n",
        "    adf_pval = adfuller(train_set[x], regression=\"nc\")[1]\n",
        "    print(x)\n",
        "    print(f\"ADF, p-value: {adf_pval}\")\n",
        "    kpss_stat, kpss_pval, lags, crit_vals = kpss(train_set[x])\n",
        "    print(f\"KPSS, p-value: {kpss_pval}\")"
      ]
    },
    {
      "cell_type": "markdown",
      "metadata": {
        "id": "ZxqF8vQyiqOT"
      },
      "source": [
        "For all the three currencies, the ADF test fails to reject the null of a unit root, and the KPSS test rejects the null of stationarity. I.e., both tests confirm each other's results.\n",
        "\n",
        "Let's apply some steps to stationarize the series."
      ]
    },
    {
      "cell_type": "markdown",
      "metadata": {
        "id": "VfV3FNv1iqOT"
      },
      "source": [
        "## Log-transformation"
      ]
    },
    {
      "cell_type": "code",
      "execution_count": null,
      "metadata": {
        "colab": {
          "base_uri": "https://localhost:8080/"
        },
        "id": "41XaJZv5iqOU",
        "outputId": "1bc37155-7414-4590-a2e6-80026bf17748"
      },
      "outputs": [
        {
          "name": "stdout",
          "output_type": "stream",
          "text": [
            "GBP\n",
            "ADF, p-value: 0.6171516511158612\n",
            "KPSS, p-value: 0.01\n",
            "EUR\n",
            "ADF, p-value: 0.7167737899055047\n",
            "KPSS, p-value: 0.01\n",
            "JPY\n",
            "ADF, p-value: 0.21074391388899766\n",
            "KPSS, p-value: 0.01\n"
          ]
        }
      ],
      "source": [
        "for x in [\"GBP\", \"EUR\", \"JPY\"]:\n",
        "    print(x)\n",
        "    logs = np.log(train_set[x])\n",
        "    adf_pval = adfuller(logs, regression=\"nc\")[1]\n",
        "    print(f\"ADF, p-value: {adf_pval}\")\n",
        "    kpss_stat, kpss_pval, lags, crit_vals = kpss(logs)\n",
        "    print(f\"KPSS, p-value: {kpss_pval}\")"
      ]
    },
    {
      "cell_type": "markdown",
      "metadata": {
        "id": "DxsSf2rBiqOU"
      },
      "source": [
        "After log-transformation, all the three series are still stationary, according to both tests. So we will not use log-transformation."
      ]
    },
    {
      "cell_type": "markdown",
      "metadata": {
        "id": "A3D8CjRTiqOU"
      },
      "source": [
        "## Differencing"
      ]
    },
    {
      "cell_type": "code",
      "execution_count": null,
      "metadata": {
        "id": "rg0E14O4iqOU"
      },
      "outputs": [],
      "source": [
        "train_diff = train_set.diff()"
      ]
    },
    {
      "cell_type": "code",
      "execution_count": null,
      "metadata": {
        "colab": {
          "base_uri": "https://localhost:8080/",
          "height": 455
        },
        "id": "3TsBL041iqOU",
        "outputId": "55921a17-b426-4b85-f6d0-a706565cc01d"
      },
      "outputs": [
        {
          "data": {
            "text/html": [
              "\n",
              "  <div id=\"df-62c810b2-9841-40fc-afaa-996a54c76821\">\n",
              "    <div class=\"colab-df-container\">\n",
              "      <div>\n",
              "<style scoped>\n",
              "    .dataframe tbody tr th:only-of-type {\n",
              "        vertical-align: middle;\n",
              "    }\n",
              "\n",
              "    .dataframe tbody tr th {\n",
              "        vertical-align: top;\n",
              "    }\n",
              "\n",
              "    .dataframe thead th {\n",
              "        text-align: right;\n",
              "    }\n",
              "</style>\n",
              "<table border=\"1\" class=\"dataframe\">\n",
              "  <thead>\n",
              "    <tr style=\"text-align: right;\">\n",
              "      <th></th>\n",
              "      <th>EUR</th>\n",
              "      <th>GBP</th>\n",
              "      <th>JPY</th>\n",
              "    </tr>\n",
              "    <tr>\n",
              "      <th>Date</th>\n",
              "      <th></th>\n",
              "      <th></th>\n",
              "      <th></th>\n",
              "    </tr>\n",
              "  </thead>\n",
              "  <tbody>\n",
              "    <tr>\n",
              "      <th>2002-07-07</th>\n",
              "      <td>NaN</td>\n",
              "      <td>NaN</td>\n",
              "      <td>NaN</td>\n",
              "    </tr>\n",
              "    <tr>\n",
              "      <th>2002-07-08</th>\n",
              "      <td>-0.0013</td>\n",
              "      <td>-0.0005</td>\n",
              "      <td>-0.1700</td>\n",
              "    </tr>\n",
              "    <tr>\n",
              "      <th>2002-07-09</th>\n",
              "      <td>-0.0165</td>\n",
              "      <td>-0.0096</td>\n",
              "      <td>-1.6400</td>\n",
              "    </tr>\n",
              "    <tr>\n",
              "      <th>2002-07-10</th>\n",
              "      <td>-0.0031</td>\n",
              "      <td>-0.0017</td>\n",
              "      <td>-0.3400</td>\n",
              "    </tr>\n",
              "    <tr>\n",
              "      <th>2002-07-11</th>\n",
              "      <td>0.0054</td>\n",
              "      <td>0.0006</td>\n",
              "      <td>-0.3700</td>\n",
              "    </tr>\n",
              "    <tr>\n",
              "      <th>...</th>\n",
              "      <td>...</td>\n",
              "      <td>...</td>\n",
              "      <td>...</td>\n",
              "    </tr>\n",
              "    <tr>\n",
              "      <th>2011-03-27</th>\n",
              "      <td>0.0031</td>\n",
              "      <td>0.0020</td>\n",
              "      <td>0.2684</td>\n",
              "    </tr>\n",
              "    <tr>\n",
              "      <th>2011-03-28</th>\n",
              "      <td>0.0003</td>\n",
              "      <td>0.0001</td>\n",
              "      <td>0.0059</td>\n",
              "    </tr>\n",
              "    <tr>\n",
              "      <th>2011-03-29</th>\n",
              "      <td>0.0006</td>\n",
              "      <td>0.0013</td>\n",
              "      <td>0.2580</td>\n",
              "    </tr>\n",
              "    <tr>\n",
              "      <th>2011-03-30</th>\n",
              "      <td>-0.0013</td>\n",
              "      <td>0.0002</td>\n",
              "      <td>0.3145</td>\n",
              "    </tr>\n",
              "    <tr>\n",
              "      <th>2011-03-31</th>\n",
              "      <td>-0.0004</td>\n",
              "      <td>-0.0014</td>\n",
              "      <td>0.8775</td>\n",
              "    </tr>\n",
              "  </tbody>\n",
              "</table>\n",
              "<p>3190 rows × 3 columns</p>\n",
              "</div>\n",
              "      <button class=\"colab-df-convert\" onclick=\"convertToInteractive('df-62c810b2-9841-40fc-afaa-996a54c76821')\"\n",
              "              title=\"Convert this dataframe to an interactive table.\"\n",
              "              style=\"display:none;\">\n",
              "        \n",
              "  <svg xmlns=\"http://www.w3.org/2000/svg\" height=\"24px\"viewBox=\"0 0 24 24\"\n",
              "       width=\"24px\">\n",
              "    <path d=\"M0 0h24v24H0V0z\" fill=\"none\"/>\n",
              "    <path d=\"M18.56 5.44l.94 2.06.94-2.06 2.06-.94-2.06-.94-.94-2.06-.94 2.06-2.06.94zm-11 1L8.5 8.5l.94-2.06 2.06-.94-2.06-.94L8.5 2.5l-.94 2.06-2.06.94zm10 10l.94 2.06.94-2.06 2.06-.94-2.06-.94-.94-2.06-.94 2.06-2.06.94z\"/><path d=\"M17.41 7.96l-1.37-1.37c-.4-.4-.92-.59-1.43-.59-.52 0-1.04.2-1.43.59L10.3 9.45l-7.72 7.72c-.78.78-.78 2.05 0 2.83L4 21.41c.39.39.9.59 1.41.59.51 0 1.02-.2 1.41-.59l7.78-7.78 2.81-2.81c.8-.78.8-2.07 0-2.86zM5.41 20L4 18.59l7.72-7.72 1.47 1.35L5.41 20z\"/>\n",
              "  </svg>\n",
              "      </button>\n",
              "      \n",
              "  <style>\n",
              "    .colab-df-container {\n",
              "      display:flex;\n",
              "      flex-wrap:wrap;\n",
              "      gap: 12px;\n",
              "    }\n",
              "\n",
              "    .colab-df-convert {\n",
              "      background-color: #E8F0FE;\n",
              "      border: none;\n",
              "      border-radius: 50%;\n",
              "      cursor: pointer;\n",
              "      display: none;\n",
              "      fill: #1967D2;\n",
              "      height: 32px;\n",
              "      padding: 0 0 0 0;\n",
              "      width: 32px;\n",
              "    }\n",
              "\n",
              "    .colab-df-convert:hover {\n",
              "      background-color: #E2EBFA;\n",
              "      box-shadow: 0px 1px 2px rgba(60, 64, 67, 0.3), 0px 1px 3px 1px rgba(60, 64, 67, 0.15);\n",
              "      fill: #174EA6;\n",
              "    }\n",
              "\n",
              "    [theme=dark] .colab-df-convert {\n",
              "      background-color: #3B4455;\n",
              "      fill: #D2E3FC;\n",
              "    }\n",
              "\n",
              "    [theme=dark] .colab-df-convert:hover {\n",
              "      background-color: #434B5C;\n",
              "      box-shadow: 0px 1px 3px 1px rgba(0, 0, 0, 0.15);\n",
              "      filter: drop-shadow(0px 1px 2px rgba(0, 0, 0, 0.3));\n",
              "      fill: #FFFFFF;\n",
              "    }\n",
              "  </style>\n",
              "\n",
              "      <script>\n",
              "        const buttonEl =\n",
              "          document.querySelector('#df-62c810b2-9841-40fc-afaa-996a54c76821 button.colab-df-convert');\n",
              "        buttonEl.style.display =\n",
              "          google.colab.kernel.accessAllowed ? 'block' : 'none';\n",
              "\n",
              "        async function convertToInteractive(key) {\n",
              "          const element = document.querySelector('#df-62c810b2-9841-40fc-afaa-996a54c76821');\n",
              "          const dataTable =\n",
              "            await google.colab.kernel.invokeFunction('convertToInteractive',\n",
              "                                                     [key], {});\n",
              "          if (!dataTable) return;\n",
              "\n",
              "          const docLinkHtml = 'Like what you see? Visit the ' +\n",
              "            '<a target=\"_blank\" href=https://colab.research.google.com/notebooks/data_table.ipynb>data table notebook</a>'\n",
              "            + ' to learn more about interactive tables.';\n",
              "          element.innerHTML = '';\n",
              "          dataTable['output_type'] = 'display_data';\n",
              "          await google.colab.output.renderOutput(dataTable, element);\n",
              "          const docLink = document.createElement('div');\n",
              "          docLink.innerHTML = docLinkHtml;\n",
              "          element.appendChild(docLink);\n",
              "        }\n",
              "      </script>\n",
              "    </div>\n",
              "  </div>\n",
              "  "
            ],
            "text/plain": [
              "               EUR     GBP     JPY\n",
              "Date                              \n",
              "2002-07-07     NaN     NaN     NaN\n",
              "2002-07-08 -0.0013 -0.0005 -0.1700\n",
              "2002-07-09 -0.0165 -0.0096 -1.6400\n",
              "2002-07-10 -0.0031 -0.0017 -0.3400\n",
              "2002-07-11  0.0054  0.0006 -0.3700\n",
              "...            ...     ...     ...\n",
              "2011-03-27  0.0031  0.0020  0.2684\n",
              "2011-03-28  0.0003  0.0001  0.0059\n",
              "2011-03-29  0.0006  0.0013  0.2580\n",
              "2011-03-30 -0.0013  0.0002  0.3145\n",
              "2011-03-31 -0.0004 -0.0014  0.8775\n",
              "\n",
              "[3190 rows x 3 columns]"
            ]
          },
          "execution_count": 24,
          "metadata": {},
          "output_type": "execute_result"
        }
      ],
      "source": [
        "train_diff"
      ]
    },
    {
      "cell_type": "markdown",
      "metadata": {
        "id": "mHkNB8vAiqOV"
      },
      "source": [
        "Differencing produces a missing value at the start of the series, so we will drop it:"
      ]
    },
    {
      "cell_type": "code",
      "execution_count": null,
      "metadata": {
        "id": "c5udu3rGiqOV"
      },
      "outputs": [],
      "source": [
        "train_diff.dropna(inplace=True)"
      ]
    },
    {
      "cell_type": "code",
      "execution_count": null,
      "metadata": {
        "colab": {
          "base_uri": "https://localhost:8080/"
        },
        "id": "lXVm6R9XiqOV",
        "outputId": "22301f35-ea72-4c5f-e544-e841efef33e7"
      },
      "outputs": [
        {
          "name": "stdout",
          "output_type": "stream",
          "text": [
            "GBP\n",
            "ADF, p-value: 9.097731414315837e-21\n",
            "KPSS, p-value: 0.1\n",
            "EUR\n",
            "ADF, p-value: 0.0\n",
            "KPSS, p-value: 0.1\n",
            "JPY\n",
            "ADF, p-value: 0.0\n",
            "KPSS, p-value: 0.1\n"
          ]
        }
      ],
      "source": [
        "for x in [\"GBP\", \"EUR\", \"JPY\"]:\n",
        "    print(x)\n",
        "    adf_pval = adfuller(train_diff[x], regression=\"nc\")[1]\n",
        "    print(\"ADF, p-value:\", adf_pval)\n",
        "    kpss_stat, kpss_pval, lags, crit_vals = kpss(train_diff[x])\n",
        "    print(\"KPSS, p-value:\", kpss_pval)"
      ]
    },
    {
      "cell_type": "markdown",
      "metadata": {
        "id": "u3bkuKPsiqOV"
      },
      "source": [
        "Both tests indicate that all the three series become stationary after first-differencing: the ADF test rejects the null of unit root, and the KPSS test fails to reject the null of stationarity, at the 0.05 significance level.\n",
        "\n",
        "Let's plot the differenced training data:"
      ]
    },
    {
      "cell_type": "code",
      "execution_count": null,
      "metadata": {
        "colab": {
          "base_uri": "https://localhost:8080/",
          "height": 411
        },
        "id": "aUdH-S08iqOV",
        "outputId": "9af297a0-3395-4c33-feeb-68e568e049ab"
      },
      "outputs": [
        {
          "data": {
            "text/plain": [
              "<matplotlib.axes._subplots.AxesSubplot at 0x7f876da70850>"
            ]
          },
          "execution_count": 27,
          "metadata": {},
          "output_type": "execute_result"
        },
        {
          "data": {
            "image/png": "[encoded data removed]",
            "text/plain": [
              "<Figure size 1152x432 with 3 Axes>"
            ]
          },
          "metadata": {},
          "output_type": "display_data"
        }
      ],
      "source": [
        "plt.subplot(311)\n",
        "train_diff['GBP'].plot(figsize=(16, 6), legend=True)\n",
        "plt.subplot(312)\n",
        "train_diff['EUR'].plot(figsize=(16, 6), legend=True)\n",
        "plt.subplot(313)\n",
        "train_diff['JPY'].plot(figsize=(16, 6), legend=True)"
      ]
    },
    {
      "cell_type": "markdown",
      "metadata": {
        "id": "tSiNeDdTiqOW"
      },
      "source": [
        "Apply first-differencing to the test data too:"
      ]
    },
    {
      "cell_type": "code",
      "execution_count": null,
      "metadata": {
        "id": "aGUvhdZciqOW"
      },
      "outputs": [],
      "source": [
        "test_diff = test_set.diff().dropna()"
      ]
    },
    {
      "cell_type": "markdown",
      "metadata": {
        "id": "ZqSTdViWiqOW"
      },
      "source": [
        "# Step 5. Build and evaluate models\n",
        "\n",
        "## Baselines\n",
        "\n",
        "We will create two baselines: (1) a persistence baseline and (2) a mean baseline.\n",
        "\n",
        "### Persistence baseline\n",
        "\n",
        "The first five observations are:"
      ]
    },
    {
      "cell_type": "code",
      "execution_count": null,
      "metadata": {
        "colab": {
          "base_uri": "https://localhost:8080/"
        },
        "id": "VZYXaMjQiqOW",
        "outputId": "623434d2-9547-4b94-8315-ccf327dbd531"
      },
      "outputs": [
        {
          "data": {
            "text/plain": [
              "Date\n",
              "2011-04-02    0.0001\n",
              "2011-04-03   -0.0032\n",
              "2011-04-04    0.0000\n",
              "2011-04-05    0.0005\n",
              "2011-04-06    0.0011\n",
              "Name: EUR, dtype: float64"
            ]
          },
          "execution_count": 29,
          "metadata": {},
          "output_type": "execute_result"
        }
      ],
      "source": [
        "test_diff['EUR'].head()"
      ]
    },
    {
      "cell_type": "markdown",
      "metadata": {
        "id": "I2pU5RdWiqOW"
      },
      "source": [
        "The `shift()` method creates a new series with values shifted one day ahead:"
      ]
    },
    {
      "cell_type": "code",
      "execution_count": null,
      "metadata": {
        "colab": {
          "base_uri": "https://localhost:8080/"
        },
        "id": "ymGaFXj0iqOX",
        "outputId": "abc17600-9518-4f89-87b9-403f32565844"
      },
      "outputs": [
        {
          "data": {
            "text/plain": [
              "Date\n",
              "2011-04-02       NaN\n",
              "2011-04-03    0.0001\n",
              "2011-04-04   -0.0032\n",
              "2011-04-05    0.0000\n",
              "2011-04-06    0.0005\n",
              "Name: EUR, dtype: float64"
            ]
          },
          "execution_count": 30,
          "metadata": {},
          "output_type": "execute_result"
        }
      ],
      "source": [
        "test_diff['EUR'].shift().head()"
      ]
    },
    {
      "cell_type": "markdown",
      "metadata": {
        "id": "FJT3MZxBiqOX"
      },
      "source": [
        "So we will use latter as forecasts of the former. Because `shift()` creates a missing value for the first day, we will drop the first observation in both series, and then calculate an RMSE score:"
      ]
    },
    {
      "cell_type": "code",
      "execution_count": null,
      "metadata": {
        "colab": {
          "base_uri": "https://localhost:8080/"
        },
        "id": "wFm9xlhuiqOX",
        "outputId": "3130aed9-ac96-4062-dfe3-ac002414aab5"
      },
      "outputs": [
        {
          "data": {
            "text/plain": [
              "0.0036332685977666945"
            ]
          },
          "execution_count": 31,
          "metadata": {},
          "output_type": "execute_result"
        }
      ],
      "source": [
        "y = test_diff['EUR'][1:]\n",
        "yhat = test_diff['EUR'].shift()[1:]\n",
        "\n",
        "mse = mean_squared_error(y, yhat)\n",
        "pers_baseline_rmse = np.sqrt(mse)\n",
        "pers_baseline_rmse"
      ]
    },
    {
      "cell_type": "code",
      "execution_count": null,
      "metadata": {
        "colab": {
          "base_uri": "https://localhost:8080/"
        },
        "id": "C1G1NK-OiqOX",
        "outputId": "31fded81-5a32-4a9d-a5e0-8718f89d417f"
      },
      "outputs": [
        {
          "data": {
            "text/plain": [
              "0.38742138364779877"
            ]
          },
          "execution_count": 32,
          "metadata": {},
          "output_type": "execute_result"
        }
      ],
      "source": [
        "pers_baseline_mda = get_mda(y, yhat)\n",
        "pers_baseline_mda"
      ]
    },
    {
      "cell_type": "markdown",
      "metadata": {
        "id": "4Ur5BIpqiqOX"
      },
      "source": [
        "### Mean baseline\n",
        "\n",
        "The mean baseline calculates the mean of the series in the training data and predicts the value for each test observation."
      ]
    },
    {
      "cell_type": "code",
      "execution_count": null,
      "metadata": {
        "colab": {
          "base_uri": "https://localhost:8080/"
        },
        "id": "2PMtYvHmiqOX",
        "outputId": "571bb5a9-ea2e-4d95-b395-04c15570668d"
      },
      "outputs": [
        {
          "data": {
            "text/plain": [
              "-9.97491376607087e-05"
            ]
          },
          "execution_count": 33,
          "metadata": {},
          "output_type": "execute_result"
        }
      ],
      "source": [
        "train_diff_mean = train_diff['EUR'].mean()\n",
        "train_diff_mean"
      ]
    },
    {
      "cell_type": "code",
      "execution_count": null,
      "metadata": {
        "colab": {
          "base_uri": "https://localhost:8080/"
        },
        "id": "ep_0VlhCiqOY",
        "outputId": "47a8d6f2-d554-4294-e169-b98cf6cf14a4"
      },
      "outputs": [
        {
          "data": {
            "text/plain": [
              "0.003045184725786605"
            ]
          },
          "execution_count": 34,
          "metadata": {},
          "output_type": "execute_result"
        }
      ],
      "source": [
        "y = test_diff['EUR']\n",
        "yhat = [train_diff_mean]*test_diff.shape[0]\n",
        "\n",
        "mse = mean_squared_error(y, yhat)\n",
        "mean_baseline_rmse = np.sqrt(mse)\n",
        "mean_baseline_rmse"
      ]
    },
    {
      "cell_type": "code",
      "execution_count": null,
      "metadata": {
        "colab": {
          "base_uri": "https://localhost:8080/"
        },
        "id": "1aEARgWziqOY",
        "outputId": "452fd4c3-904e-4543-a678-83068c51631d"
      },
      "outputs": [
        {
          "data": {
            "text/plain": [
              "0.010050251256281407"
            ]
          },
          "execution_count": 35,
          "metadata": {},
          "output_type": "execute_result"
        }
      ],
      "source": [
        "mean_baseline_mda = get_mda(y, yhat)\n",
        "mean_baseline_mda"
      ]
    },
    {
      "cell_type": "markdown",
      "metadata": {
        "id": "gy_t0zpRiqOY"
      },
      "source": [
        "## ARIMA ($p, d, q$)\n",
        "\n",
        "The first forecasting method we will try is [Autoregressive Integrated Moving Average ARIMA](https://www.statsmodels.org/stable/generated/statsmodels.tsa.arima_model.ARIMA.html) (ARIMA).\n",
        "\n",
        "### Finding $p$ and $q$ using ACF and PACF plots\n",
        "\n",
        "We first need to determine the $p$, $d$ and $q$ parameters of the model.\n",
        "\n",
        "We know that the $d$ (order of integration) parameter in ARIMA equals 1. \n",
        "\n",
        "The most common way to determine the $p$ and $q$ parameters is by using ACF and PACF plots."
      ]
    },
    {
      "cell_type": "code",
      "execution_count": null,
      "metadata": {
        "id": "7NDva_IqiqOY"
      },
      "outputs": [],
      "source": [
        "from statsmodels.tsa.stattools import acf, pacf\n",
        "\n",
        "lag_acf = acf(train_diff['EUR'], nlags=20)\n",
        "lag_pacf = pacf(train_diff['EUR'], nlags=20, method='ols')"
      ]
    },
    {
      "cell_type": "code",
      "execution_count": null,
      "metadata": {
        "colab": {
          "base_uri": "https://localhost:8080/",
          "height": 293
        },
        "id": "XJzfJX12iqOY",
        "outputId": "e2d65455-1d8e-4cfd-d8a5-1c8a403df86c"
      },
      "outputs": [
        {
          "data": {
            "image/png": "[encoded data removed]",
            "text/plain": [
              "<Figure size 864x288 with 2 Axes>"
            ]
          },
          "metadata": {},
          "output_type": "display_data"
        }
      ],
      "source": [
        "plt.figure(figsize=(12, 4))\n",
        "\n",
        "plt.subplot(121) \n",
        "plt.plot(lag_acf)\n",
        "plt.axhline(y=0,linestyle='--',color='gray')\n",
        "plt.axhline(y=-1.96/np.sqrt(len(train_diff)),linestyle='--',color='gray')\n",
        "plt.axhline(y=1.96/np.sqrt(len(train_diff)),linestyle='--',color='gray')\n",
        "plt.title('Autocorrelation Function')\n",
        "\n",
        "plt.subplot(122)\n",
        "plt.plot(lag_pacf)\n",
        "plt.axhline(y=0,linestyle='--',color='gray')\n",
        "plt.axhline(y=-1.96/np.sqrt(len(train_diff)),linestyle='--',color='gray')\n",
        "plt.axhline(y=1.96/np.sqrt(len(train_diff)),linestyle='--',color='gray')\n",
        "plt.title('Partial Autocorrelation Function')\n",
        "plt.tight_layout()"
      ]
    },
    {
      "cell_type": "markdown",
      "metadata": {
        "id": "_DYReZkEiqOZ"
      },
      "source": [
        "The ACF function enters the area indicating insignificant correlation at lag 2, and so we set $q$ to be 2.\n",
        "\n",
        "The PACF function indicates that the last lag with significant correlation is also 2, so we set $p$ to 2, as well.\n",
        "\n",
        "Thus the ARIMA model will use four variables: two AR variables (at lags 1 and 2) and two MA variables (at lags 1 and 2).\n",
        "\n",
        "We specify the order in the ARIMA model as (2, 1, 2) - when inputting the non-differenced series. If we used the differenced series, we would use the order of (2, 0, 2):"
      ]
    },
    {
      "cell_type": "markdown",
      "metadata": {
        "id": "YlQ7IhyViqOZ"
      },
      "source": [
        "We will add **exogenous** variables into the model the values of GBP and JPY at lag 1:"
      ]
    },
    {
      "cell_type": "code",
      "execution_count": null,
      "metadata": {
        "colab": {
          "base_uri": "https://localhost:8080/",
          "height": 175
        },
        "id": "vZwymr4FiqOZ",
        "outputId": "cbb5ea5f-831e-4d3e-c8b8-4912f35d1d76"
      },
      "outputs": [
        {
          "data": {
            "text/html": [
              "\n",
              "  <div id=\"df-4a8a2ca5-e77e-4437-be4e-010b6df0b781\">\n",
              "    <div class=\"colab-df-container\">\n",
              "      <div>\n",
              "<style scoped>\n",
              "    .dataframe tbody tr th:only-of-type {\n",
              "        vertical-align: middle;\n",
              "    }\n",
              "\n",
              "    .dataframe tbody tr th {\n",
              "        vertical-align: top;\n",
              "    }\n",
              "\n",
              "    .dataframe thead th {\n",
              "        text-align: right;\n",
              "    }\n",
              "</style>\n",
              "<table border=\"1\" class=\"dataframe\">\n",
              "  <thead>\n",
              "    <tr style=\"text-align: right;\">\n",
              "      <th></th>\n",
              "      <th>GBP</th>\n",
              "      <th>JPY</th>\n",
              "    </tr>\n",
              "    <tr>\n",
              "      <th>Date</th>\n",
              "      <th></th>\n",
              "      <th></th>\n",
              "    </tr>\n",
              "  </thead>\n",
              "  <tbody>\n",
              "    <tr>\n",
              "      <th>2002-07-08</th>\n",
              "      <td>0.0000</td>\n",
              "      <td>0.00</td>\n",
              "    </tr>\n",
              "    <tr>\n",
              "      <th>2002-07-09</th>\n",
              "      <td>-0.0005</td>\n",
              "      <td>-0.17</td>\n",
              "    </tr>\n",
              "    <tr>\n",
              "      <th>2002-07-10</th>\n",
              "      <td>-0.0096</td>\n",
              "      <td>-1.64</td>\n",
              "    </tr>\n",
              "  </tbody>\n",
              "</table>\n",
              "</div>\n",
              "      <button class=\"colab-df-convert\" onclick=\"convertToInteractive('df-4a8a2ca5-e77e-4437-be4e-010b6df0b781')\"\n",
              "              title=\"Convert this dataframe to an interactive table.\"\n",
              "              style=\"display:none;\">\n",
              "        \n",
              "  <svg xmlns=\"http://www.w3.org/2000/svg\" height=\"24px\"viewBox=\"0 0 24 24\"\n",
              "       width=\"24px\">\n",
              "    <path d=\"M0 0h24v24H0V0z\" fill=\"none\"/>\n",
              "    <path d=\"M18.56 5.44l.94 2.06.94-2.06 2.06-.94-2.06-.94-.94-2.06-.94 2.06-2.06.94zm-11 1L8.5 8.5l.94-2.06 2.06-.94-2.06-.94L8.5 2.5l-.94 2.06-2.06.94zm10 10l.94 2.06.94-2.06 2.06-.94-2.06-.94-.94-2.06-.94 2.06-2.06.94z\"/><path d=\"M17.41 7.96l-1.37-1.37c-.4-.4-.92-.59-1.43-.59-.52 0-1.04.2-1.43.59L10.3 9.45l-7.72 7.72c-.78.78-.78 2.05 0 2.83L4 21.41c.39.39.9.59 1.41.59.51 0 1.02-.2 1.41-.59l7.78-7.78 2.81-2.81c.8-.78.8-2.07 0-2.86zM5.41 20L4 18.59l7.72-7.72 1.47 1.35L5.41 20z\"/>\n",
              "  </svg>\n",
              "      </button>\n",
              "      \n",
              "  <style>\n",
              "    .colab-df-container {\n",
              "      display:flex;\n",
              "      flex-wrap:wrap;\n",
              "      gap: 12px;\n",
              "    }\n",
              "\n",
              "    .colab-df-convert {\n",
              "      background-color: #E8F0FE;\n",
              "      border: none;\n",
              "      border-radius: 50%;\n",
              "      cursor: pointer;\n",
              "      display: none;\n",
              "      fill: #1967D2;\n",
              "      height: 32px;\n",
              "      padding: 0 0 0 0;\n",
              "      width: 32px;\n",
              "    }\n",
              "\n",
              "    .colab-df-convert:hover {\n",
              "      background-color: #E2EBFA;\n",
              "      box-shadow: 0px 1px 2px rgba(60, 64, 67, 0.3), 0px 1px 3px 1px rgba(60, 64, 67, 0.15);\n",
              "      fill: #174EA6;\n",
              "    }\n",
              "\n",
              "    [theme=dark] .colab-df-convert {\n",
              "      background-color: #3B4455;\n",
              "      fill: #D2E3FC;\n",
              "    }\n",
              "\n",
              "    [theme=dark] .colab-df-convert:hover {\n",
              "      background-color: #434B5C;\n",
              "      box-shadow: 0px 1px 3px 1px rgba(0, 0, 0, 0.15);\n",
              "      filter: drop-shadow(0px 1px 2px rgba(0, 0, 0, 0.3));\n",
              "      fill: #FFFFFF;\n",
              "    }\n",
              "  </style>\n",
              "\n",
              "      <script>\n",
              "        const buttonEl =\n",
              "          document.querySelector('#df-4a8a2ca5-e77e-4437-be4e-010b6df0b781 button.colab-df-convert');\n",
              "        buttonEl.style.display =\n",
              "          google.colab.kernel.accessAllowed ? 'block' : 'none';\n",
              "\n",
              "        async function convertToInteractive(key) {\n",
              "          const element = document.querySelector('#df-4a8a2ca5-e77e-4437-be4e-010b6df0b781');\n",
              "          const dataTable =\n",
              "            await google.colab.kernel.invokeFunction('convertToInteractive',\n",
              "                                                     [key], {});\n",
              "          if (!dataTable) return;\n",
              "\n",
              "          const docLinkHtml = 'Like what you see? Visit the ' +\n",
              "            '<a target=\"_blank\" href=https://colab.research.google.com/notebooks/data_table.ipynb>data table notebook</a>'\n",
              "            + ' to learn more about interactive tables.';\n",
              "          element.innerHTML = '';\n",
              "          dataTable['output_type'] = 'display_data';\n",
              "          await google.colab.output.renderOutput(dataTable, element);\n",
              "          const docLink = document.createElement('div');\n",
              "          docLink.innerHTML = docLinkHtml;\n",
              "          element.appendChild(docLink);\n",
              "        }\n",
              "      </script>\n",
              "    </div>\n",
              "  </div>\n",
              "  "
            ],
            "text/plain": [
              "               GBP   JPY\n",
              "Date                    \n",
              "2002-07-08  0.0000  0.00\n",
              "2002-07-09 -0.0005 -0.17\n",
              "2002-07-10 -0.0096 -1.64"
            ]
          },
          "execution_count": 38,
          "metadata": {},
          "output_type": "execute_result"
        }
      ],
      "source": [
        "exog = train_diff[['GBP', 'JPY']].shift().replace(np.NaN, 0.0)\n",
        "exog.head(3)"
      ]
    },
    {
      "cell_type": "code",
      "execution_count": null,
      "metadata": {
        "colab": {
          "base_uri": "https://localhost:8080/"
        },
        "id": "lbcAizRkiqOa",
        "outputId": "8dbfbdf1-606b-4720-bb47-3b170eed6b8f"
      },
      "outputs": [
        {
          "data": {
            "text/plain": [
              "Date\n",
              "2002-07-08   -0.0013\n",
              "2002-07-09   -0.0165\n",
              "2002-07-10   -0.0031\n",
              "Name: EUR, dtype: float64"
            ]
          },
          "execution_count": 39,
          "metadata": {},
          "output_type": "execute_result"
        }
      ],
      "source": [
        "endog = train_diff['EUR']\n",
        "endog.head(3)"
      ]
    },
    {
      "cell_type": "code",
      "execution_count": null,
      "metadata": {
        "colab": {
          "base_uri": "https://localhost:8080/"
        },
        "id": "DFU3VeFiiqOa",
        "outputId": "23992573-3513-4693-8896-40591dec83d8"
      },
      "outputs": [
        {
          "name": "stdout",
          "output_type": "stream",
          "text": [
            "==============================================================================\n",
            "                 coef    std err          z      P>|z|      [0.025      0.975]\n",
            "------------------------------------------------------------------------------\n",
            "const         -0.0001   7.84e-05     -1.369      0.171      -0.000    4.63e-05\n",
            "GBP           -0.0140      0.023     -0.601      0.548      -0.060       0.032\n",
            "JPY           -0.0003      0.000     -2.138      0.033      -0.000   -2.17e-05\n",
            "ar.L1         -0.0433      0.431     -0.101      0.920      -0.888       0.802\n",
            "ar.L2         -0.2078      0.155     -1.343      0.179      -0.511       0.095\n",
            "ma.L1          0.1620      0.429      0.378      0.706      -0.679       1.003\n",
            "ma.L2          0.2484      0.125      1.983      0.047       0.003       0.494\n",
            "sigma2      1.526e-05   2.34e-07     65.199      0.000    1.48e-05    1.57e-05\n",
            "==============================================================================\n"
          ]
        }
      ],
      "source": [
        "from statsmodels.tsa.arima.model import ARIMA\n",
        "\n",
        "arima = ARIMA(endog, exog=exog, order=(2, 0, 2)).fit()\n",
        "\n",
        "# print the significance of the variables\n",
        "print(arima.summary().tables[1])"
      ]
    },
    {
      "cell_type": "markdown",
      "metadata": {
        "id": "ftpO6gaviqOa"
      },
      "source": [
        "### Evaluate ARIMA on the test data\n",
        "\n",
        "We can now evaluate the model on the test (out-of-sample) data. We will re-train a new model for each new instance of the test data: first we will apply the model trained on the training data to the first test instance; after recording the forecast for it, we will add the test instance to the training data, train a new model and apply it to the second test instance, and so on."
      ]
    },
    {
      "cell_type": "code",
      "execution_count": null,
      "metadata": {
        "colab": {
          "background_save": true,
          "base_uri": "https://localhost:8080/"
        },
        "id": "XDSOf6mqiqOb",
        "outputId": "083beab0-625d-49c2-e31a-e9e0a5899cc9"
      },
      "outputs": [
        {
          "name": "stdout",
          "output_type": "stream",
          "text": [
            "predicted=-0.00015303706568145563, expected=9.999999999998899e-05\n",
            "predicted=-0.000298648933520733, expected=-0.0031999999999999806\n",
            "predicted=-0.0004880607684850546, expected=0.0\n",
            "predicted=-0.00016927950655525737, expected=0.0004999999999999449\n",
            "predicted=8.968522614465553e-05, expected=0.001100000000000101\n",
            "predicted=-1.1538649621241955e-05, expected=-0.0041000000000001036\n",
            "predicted=-0.0007555780780836463, expected=-0.0007999999999999119\n",
            "predicted=-0.0002725175602674968, expected=-0.0044000000000000705\n",
            "predicted=-0.000443404403691518, expected=-0.0037999999999999146\n",
            "predicted=-0.0005475095532032257, expected=0.00029999999999996696\n",
            "predicted=-6.603958597085617e-05, expected=0.0005999999999999339\n",
            "predicted=0.00014642014453130256, expected=0.000300000000000078\n",
            "predicted=4.51319489038317e-05, expected=-0.0016000000000000458\n",
            "predicted=-0.0003182096302282689, expected=0.0010999999999999899\n",
            "predicted=0.0001495034446848877, expected=-9.999999999998899e-05\n",
            "predicted=5.700800911718012e-06, expected=0.0015000000000000568\n",
            "predicted=6.023712494289887e-05, expected=9.999999999998899e-05\n",
            "predicted=-6.718176303741142e-05, expected=0.0050000000000000044\n",
            "predicted=0.0005339953241063907, expected=0.0024999999999999467\n",
            "predicted=0.00038401228218506403, expected=-0.008599999999999941\n",
            "predicted=-0.0012366239724221904, expected=-0.006000000000000005\n",
            "predicted=-0.0008725654547197866, expected=0.0008000000000000229\n",
            "predicted=0.00021614884650463534, expected=0.0\n",
            "predicted=0.000107114404969819, expected=0.0\n",
            "predicted=-0.00019631086720268707, expected=-0.0009000000000000119\n",
            "predicted=-0.0002732883361512517, expected=-0.0007000000000000339\n",
            "predicted=-9.885195030568856e-05, expected=-0.0043999999999999595\n",
            "predicted=-0.0006561916146579447, expected=-0.006300000000000083\n",
            "predicted=-0.0008201289972774406, expected=-0.0007999999999999119\n",
            "predicted=-0.00011667029851632428, expected=0.0016999999999999238\n",
            "predicted=0.0003417239825915775, expected=0.0\n",
            "predicted=-7.867479716363961e-05, expected=-0.0011999999999999789\n",
            "predicted=-0.000381922447583658, expected=0.0007000000000000339\n",
            "predicted=9.218116069137976e-06, expected=-0.0013000000000000789\n",
            "predicted=-0.0001766888957608631, expected=0.0038000000000000256\n",
            "predicted=0.00044858484219613117, expected=0.011800000000000033\n",
            "predicted=0.0013515084038040201, expected=0.009499999999999953\n",
            "predicted=0.001150176185566112, expected=-0.00029999999999996696\n",
            "predicted=-0.0003564804587775542, expected=-0.0024999999999999467\n",
            "predicted=-0.0007046807258449553, expected=0.0006999999999999229\n",
            "predicted=4.984926454593762e-05, expected=0.00040000000000006697\n",
            "predicted=8.53659310058011e-06, expected=0.006599999999999939\n",
            "predicted=0.0006158525457011026, expected=-0.00029999999999996696\n",
            "predicted=-1.527403191648553e-06, expected=0.0050000000000000044\n",
            "predicted=0.00024731601952578477, expected=0.00019999999999997797\n",
            "predicted=5.836943655795955e-05, expected=-0.0010999999999999899\n",
            "predicted=-0.0003403332371085278, expected=-0.0020000000000000018\n",
            "predicted=-0.0005113363098257469, expected=-0.0039000000000000146\n",
            "predicted=-0.0005278786072589911, expected=-0.0010000000000000009\n",
            "predicted=-0.00035754405874580965, expected=0.00039999999999995595\n",
            "predicted=8.873614375381826e-05, expected=0.00550000000000006\n",
            "predicted=0.0005851496518902086, expected=0.00019999999999997797\n",
            "predicted=1.4819499799335295e-05, expected=0.0047000000000000375\n",
            "predicted=0.00025976269914048896, expected=-0.0010999999999999899\n",
            "predicted=-0.00018976246069635425, expected=0.00039999999999995595\n",
            "predicted=-0.00010448057094422988, expected=-0.0035999999999999366\n",
            "predicted=-0.0002879340425273845, expected=-0.0044000000000000705\n",
            "predicted=-0.00037021776894989686, expected=-0.0040999999999999925\n",
            "predicted=-0.0004489335529354381, expected=-9.999999999998899e-05\n",
            "predicted=-4.473504667544641e-05, expected=0.0016000000000000458\n",
            "predicted=0.0001750285878694999, expected=-0.0046000000000000485\n",
            "predicted=-0.0007785535630169789, expected=-0.0016000000000000458\n",
            "predicted=-0.00046635485270405286, expected=0.00010000000000010001\n",
            "predicted=1.9563550214543905e-05, expected=-0.005600000000000049\n",
            "predicted=-0.0005907722327559112, expected=-0.0050000000000000044\n",
            "predicted=-0.0008221966933291697, expected=9.999999999998899e-05\n",
            "predicted=-4.2895349514283525e-05, expected=0.00040000000000006697\n",
            "predicted=0.0001903014656519803, expected=-0.0008000000000000229\n",
            "predicted=-0.00022223843617906946, expected=-9.999999999998899e-05\n",
            "predicted=-0.00012704341469491043, expected=0.0029000000000000137\n",
            "predicted=0.00023952145340980604, expected=0.005899999999999905\n",
            "predicted=0.0006872701994598006, expected=0.005400000000000071\n",
            "predicted=0.0005543929240877239, expected=0.0\n",
            "predicted=-0.00017957336762812936, expected=-0.0010000000000000009\n",
            "predicted=-0.0002842588490702793, expected=-0.0038000000000000256\n",
            "predicted=-0.0003971166804597053, expected=0.00539999999999996\n",
            "predicted=0.00039817116872671544, expected=0.008700000000000041\n",
            "predicted=0.0011855021158177375, expected=-0.0039000000000000146\n",
            "predicted=-0.0004667639888337173, expected=-0.0034999999999999476\n",
            "predicted=-0.0008879032193873051, expected=9.999999999998899e-05\n",
            "predicted=8.34768253698668e-06, expected=0.0015999999999999348\n",
            "predicted=0.00029059179665074123, expected=-0.0044999999999999485\n",
            "predicted=-0.0006608840645275936, expected=-0.0012999999999999678\n",
            "predicted=-0.0004778549197506438, expected=0.00649999999999995\n",
            "predicted=0.0007535675236885657, expected=0.0011999999999999789\n",
            "predicted=0.00029082521588405573, expected=0.0022999999999999687\n",
            "predicted=-7.672925208031465e-05, expected=-9.999999999998899e-05\n",
            "predicted=-0.0001208498124934925, expected=-0.00039999999999995595\n",
            "predicted=-0.0002343017931459075, expected=-0.005800000000000027\n",
            "predicted=-0.0005722051400216362, expected=-0.0039000000000000146\n",
            "predicted=-0.000496166114569506, expected=-0.0045999999999999375\n",
            "predicted=-0.00034479593676200646, expected=-0.0007000000000000339\n",
            "predicted=-0.00010506791603862636, expected=-0.0009000000000000119\n",
            "predicted=-0.00021477560197796143, expected=0.0\n",
            "predicted=-9.205716798455127e-05, expected=-0.0005999999999999339\n",
            "predicted=-0.00017076697653303798, expected=0.0024999999999999467\n",
            "predicted=5.3350103866241124e-05, expected=0.0050000000000000044\n",
            "predicted=0.00041264002722771686, expected=0.0026000000000000467\n",
            "predicted=0.0001388831821316581, expected=0.0007999999999999119\n",
            "predicted=-0.00013878750231690495, expected=0.0026000000000000467\n",
            "predicted=-5.904273706038227e-05, expected=0.00019999999999997797\n",
            "predicted=-5.4666108648828075e-05, expected=0.006299999999999972\n",
            "predicted=0.0005666120131489095, expected=0.007300000000000084\n",
            "predicted=0.0008213313987748711, expected=-0.0040999999999999925\n",
            "predicted=-0.000680284743823131, expected=-0.007000000000000006\n",
            "predicted=-0.001078933584384266, expected=0.0024999999999999467\n",
            "predicted=0.00016530661458483332, expected=-0.00029999999999996696\n",
            "predicted=5.819546922201084e-06, expected=9.999999999998899e-05\n",
            "predicted=-0.00015440342407280092, expected=0.0040999999999999925\n",
            "predicted=0.0003446560485074286, expected=-0.0036000000000000476\n",
            "predicted=-0.0003963000823562584, expected=-0.0020999999999999908\n",
            "predicted=-0.0003696799942328993, expected=-0.0047999999999999154\n",
            "predicted=-0.0005466340378915541, expected=-0.005099999999999993\n",
            "predicted=-0.0006437704069492609, expected=0.0014999999999999458\n",
            "predicted=8.242512442408712e-05, expected=-9.999999999998899e-05\n",
            "predicted=-4.2871548853754034e-05, expected=-0.0007000000000000339\n",
            "predicted=-0.00013517096922843866, expected=-0.0043999999999999595\n",
            "predicted=-0.000635893718163385, expected=0.00019999999999997797\n",
            "predicted=-0.00010989511911610683, expected=0.006099999999999994\n",
            "predicted=0.0005639854353372882, expected=0.00029999999999996696\n",
            "predicted=-0.0001163489167535465, expected=-0.0030999999999999917\n",
            "predicted=-0.0004593502993572964, expected=0.0\n",
            "predicted=-9.470753976545472e-05, expected=0.0020000000000000018\n",
            "predicted=0.00013413199498859944, expected=0.006099999999999994\n",
            "predicted=0.0005701188968269882, expected=-0.0014999999999999458\n",
            "predicted=-0.0003666921946611135, expected=0.0005999999999999339\n",
            "predicted=-0.0005058351459490252, expected=0.0043000000000000815\n",
            "predicted=0.0006530597651303668, expected=-0.006000000000000005\n",
            "predicted=-0.0006766567161777035, expected=-0.0008000000000000229\n",
            "predicted=-0.0004316506959218444, expected=0.0008000000000000229\n",
            "predicted=0.00034264988838843795, expected=0.0022999999999999687\n",
            "predicted=0.0003564265444080399, expected=-0.0037000000000000366\n",
            "predicted=-0.0001296733399171667, expected=0.0050000000000000044\n",
            "predicted=0.00038415088060125623, expected=-0.0010000000000000009\n",
            "predicted=-0.000332669656060347, expected=-0.0009000000000000119\n",
            "predicted=-0.0002803824763040115, expected=-9.999999999998899e-05\n",
            "predicted=-9.042556214651593e-05, expected=-0.004899999999999904\n",
            "predicted=-0.0006153244983334779, expected=-0.0030000000000000027\n",
            "predicted=-0.0004745056123122347, expected=-0.0006000000000000449\n",
            "predicted=-0.0002734236355837558, expected=0.0020999999999999908\n",
            "predicted=4.136430587235425e-06, expected=0.0015000000000000568\n",
            "predicted=1.369874751501388e-05, expected=-0.0022000000000000908\n",
            "predicted=-0.0001656471558068226, expected=0.0\n",
            "predicted=-0.00012429440121262833, expected=0.000300000000000078\n",
            "predicted=-0.0001239041835427208, expected=-0.0013000000000000789\n",
            "predicted=-0.00021256863721387412, expected=-0.0006999999999999229\n",
            "predicted=-4.961883236183877e-05, expected=0.0009000000000000119\n",
            "predicted=0.0002161388107310578, expected=-0.0009000000000000119\n",
            "predicted=-2.3177629028883674e-05, expected=-0.0033000000000000806\n",
            "predicted=-0.0004680193238840028, expected=0.0\n",
            "predicted=-6.66504190480381e-05, expected=-0.0004999999999999449\n",
            "predicted=-0.0001467328547552227, expected=0.0018000000000000238\n",
            "predicted=0.00011242301147367469, expected=0.0020999999999999908\n",
            "predicted=0.00022669513855245256, expected=0.005199999999999982\n",
            "predicted=0.0003959349071055338, expected=0.0038000000000000256\n",
            "predicted=0.0001829320761243996, expected=0.0019000000000000128\n",
            "predicted=-7.687623714900914e-05, expected=0.00019999999999997797\n",
            "predicted=-0.00011118355430616113, expected=0.0032999999999999696\n",
            "predicted=0.00032308604439472725, expected=0.0030000000000000027\n",
            "predicted=0.00022354965594284564, expected=0.0010000000000000009\n",
            "predicted=-0.00010860462633543597, expected=0.0014999999999999458\n",
            "predicted=4.444701483616621e-05, expected=0.010600000000000054\n",
            "predicted=0.0012580271323786572, expected=0.009000000000000008\n",
            "predicted=0.0010863310440768711, expected=0.00039999999999995595\n",
            "predicted=-0.00026956381180339833, expected=0.0020000000000000018\n",
            "predicted=4.982419267145456e-05, expected=-0.0034999999999999476\n",
            "predicted=-0.0004167290769516006, expected=-0.0010999999999999899\n",
            "predicted=-0.0003264137610135218, expected=-0.00550000000000006\n",
            "predicted=-0.0004741463119567582, expected=-0.0016999999999999238\n",
            "predicted=-0.0002401486765767877, expected=0.0014999999999999458\n",
            "predicted=0.00010667943870456883, expected=0.000500000000000056\n",
            "predicted=-3.691670790765931e-05, expected=0.00649999999999995\n",
            "predicted=0.000604768393764103, expected=0.00019999999999997797\n",
            "predicted=-3.437362272295153e-05, expected=-0.0015999999999999348\n",
            "predicted=-0.00017508209081253126, expected=0.009699999999999931\n",
            "predicted=0.0013568687444605089, expected=0.000500000000000056\n",
            "predicted=-1.790831663813365e-05, expected=0.00039999999999995595\n",
            "predicted=-0.000323950459025934, expected=-0.00019999999999997797\n",
            "predicted=-7.478652800795195e-05, expected=0.0019000000000000128\n",
            "predicted=-3.788235832537435e-05, expected=-0.005199999999999982\n",
            "predicted=-0.0007923113169480381, expected=-0.0020000000000000018\n",
            "predicted=-0.000343124932886378, expected=-9.999999999998899e-05\n",
            "predicted=-1.8600842945022585e-05, expected=0.004899999999999904\n",
            "predicted=0.0003212577119768542, expected=0.006900000000000017\n",
            "predicted=0.00039450045226313866, expected=0.000300000000000078\n",
            "predicted=-0.0001159751419931664, expected=0.0034999999999999476\n",
            "predicted=0.0003184285840158627, expected=0.00550000000000006\n",
            "predicted=0.0006703581269529542, expected=-0.005700000000000038\n",
            "predicted=-0.0006346408475863972, expected=-0.0022999999999999687\n",
            "predicted=-0.0002061683484794227, expected=-0.0040999999999999925\n",
            "predicted=-0.0005816033678409278, expected=0.0032999999999999696\n",
            "predicted=3.0840360267091085e-05, expected=9.999999999998899e-05\n",
            "predicted=-2.6379980699097166e-05, expected=-0.009299999999999975\n",
            "predicted=-0.0009926038066554507, expected=-0.0049000000000000155\n",
            "predicted=-0.0004098475681006505, expected=-0.0046000000000000485\n",
            "predicted=-0.00046879888831863846, expected=-0.0025999999999999357\n",
            "predicted=-0.0004496615035167491, expected=-0.0020999999999999908\n",
            "predicted=-0.0003459064919930047, expected=-0.0038000000000000256\n",
            "predicted=-0.0004950384572018189, expected=9.999999999998899e-05\n",
            "predicted=-5.953781619878802e-05, expected=0.0029000000000000137\n"
          ]
        }
      ],
      "source": [
        "# buffers keeping previously seen endogenous and exogenous variables\n",
        "history_endog = [x for x in endog]\n",
        "history_exog = [x for x in exog.values]\n",
        "predictions = []\n",
        "\n",
        "# create exogenous variables also for the test data\n",
        "test_exog = test_diff[['GBP', 'JPY']].shift().replace(np.NaN, 0.0)\n",
        "\n",
        "# for each test observation, take the first 200 for convenience\n",
        "for i, test_obs in enumerate(test_diff['EUR'][:200]):\n",
        "    \n",
        "    # build a model using the current buffers for endogenous and exogenous variables\n",
        "    model = ARIMA(history_endog, exog=history_exog, order=(2, 0, 2)).fit()\n",
        "    \n",
        "    # forecast the value for the test instance, supplying corresponding exogenous variables \n",
        "    yhat = model.forecast(exog=test_exog.iloc[i])[0]\n",
        "    \n",
        "    # remember the forecasted value\n",
        "    predictions.append(yhat)\n",
        "    \n",
        "    # update the buffers for the endogenous and exogenous variables\n",
        "    history_endog.append(test_obs)\n",
        "    history_exog.append(test_exog.iloc[i])\n",
        "    \n",
        "    print(f'predicted={yhat}, expected={test_obs}')"
      ]
    },
    {
      "cell_type": "markdown",
      "metadata": {
        "id": "UnPKYtbkiqOb"
      },
      "source": [
        "We can plot the predictions and compare them to the true values."
      ]
    },
    {
      "cell_type": "code",
      "execution_count": null,
      "metadata": {
        "id": "jqht_G_kiqOb",
        "outputId": "b8a8f972-ab01-48e1-90e1-4ed04ccd6483"
      },
      "outputs": [
        {
          "data": {
            "text/plain": [
              "<AxesSubplot:>"
            ]
          },
          "execution_count": 35,
          "metadata": {},
          "output_type": "execute_result"
        },
        {
          "data": {
            "image/png": "[encoded data removed]",
            "text/plain": [
              "<Figure size 1152x288 with 1 Axes>"
            ]
          },
          "metadata": {},
          "output_type": "display_data"
        }
      ],
      "source": [
        "pd.DataFrame({\"true\": test_diff['EUR'][:200], \"predicted\": predictions}\n",
        "            ).plot(figsize=(16, 4))"
      ]
    },
    {
      "cell_type": "markdown",
      "metadata": {
        "id": "jT9mW-lxiqOb"
      },
      "source": [
        "It appears that the ARIMA matches the peaks and troughs (although the forecasts seem to be largely reproductions of earlier peaks and troughs), but does so in a very conservative fashion."
      ]
    },
    {
      "cell_type": "code",
      "execution_count": null,
      "metadata": {
        "id": "fxYo_k65iqOb",
        "outputId": "824c1197-3bcb-473c-aadf-69427fab5735"
      },
      "outputs": [
        {
          "data": {
            "text/plain": [
              "0.003509987896638146"
            ]
          },
          "execution_count": 36,
          "metadata": {},
          "output_type": "execute_result"
        }
      ],
      "source": [
        "mse = mean_squared_error(test_diff['EUR'][:200], predictions)\n",
        "arima_rmse = np.sqrt(mse)\n",
        "arima_rmse"
      ]
    },
    {
      "cell_type": "code",
      "execution_count": null,
      "metadata": {
        "id": "-n016qUWiqOc",
        "outputId": "ea9ed5b7-cb2c-480b-8e09-d2d04302b90d"
      },
      "outputs": [
        {
          "data": {
            "text/plain": [
              "0.38190954773869346"
            ]
          },
          "execution_count": 37,
          "metadata": {},
          "output_type": "execute_result"
        }
      ],
      "source": [
        "arima_mda = get_mda(test_diff['EUR'][:200], predictions)\n",
        "arima_mda"
      ]
    },
    {
      "cell_type": "markdown",
      "metadata": {
        "id": "dO1NVl_MiqOc"
      },
      "source": [
        "## Machine Learning methods\n",
        "\n",
        "To be able to input the time series into the scikit-learn implementation of machine learning algorthms, the data needs to be arranged into a format where rows contain instances and columns contain different lagged values of both the endogenous variable and exogenous variables.\n",
        "\n",
        "As input, the function `create_ar_vars` takes:\n",
        "\n",
        "(1) a one-dimensional array representing the endogenous variable;\n",
        "\n",
        "(2) a two-dimensional array representing the exogenous variable(s);\n",
        "\n",
        "(3) the number of lags.\n",
        "\n",
        "It outputs:\n",
        "\n",
        "(1) a two dimensional numpy array containing predictor variables and \n",
        "\n",
        "(2) a one-dimensional array containing the target variable."
      ]
    },
    {
      "cell_type": "code",
      "execution_count": null,
      "metadata": {
        "id": "Fn5gINgPiqOc"
      },
      "outputs": [],
      "source": [
        "def create_ar_vars(endog, exog, lags=2):\n",
        "    \"\"\"Create autoregressive variables from endogenous and exogenous\n",
        "    variables\n",
        "    \"\"\"\n",
        "    X, y = [], []\n",
        "    for i in range(len(endog)-lags):\n",
        "        endog_row = endog[i:i + lags, 0]\n",
        "        exog_row = exog[i:i + lags,:].flatten()\n",
        "        X.append(np.concatenate([endog_row, exog_row]))\n",
        "        y.append(endog[i + lags, 0])\n",
        "    return np.array(X), np.array(y)"
      ]
    },
    {
      "cell_type": "markdown",
      "metadata": {
        "id": "QxpbbsfZiqOc"
      },
      "source": [
        "Below is an example input and example output:"
      ]
    },
    {
      "cell_type": "code",
      "execution_count": null,
      "metadata": {
        "id": "E6HjweaOiqOc",
        "outputId": "a5e92318-52da-4ca6-e24f-dcaaad543827"
      },
      "outputs": [
        {
          "name": "stdout",
          "output_type": "stream",
          "text": [
            "Input endogs:\n",
            "[[ 1]\n",
            " [ 2]\n",
            " [ 3]\n",
            " [ 4]\n",
            " [ 5]\n",
            " [ 6]\n",
            " [ 7]\n",
            " [ 8]\n",
            " [ 9]\n",
            " [10]\n",
            " [11]\n",
            " [12]]\n",
            "Input exogs:\n",
            "[[  10  100]\n",
            " [  20  200]\n",
            " [  30  300]\n",
            " [  40  400]\n",
            " [  50  500]\n",
            " [  60  600]\n",
            " [  70  700]\n",
            " [  80  800]\n",
            " [  90  900]\n",
            " [ 100 1000]\n",
            " [ 110 1100]\n",
            " [ 120 1200]]\n",
            "Output:\n"
          ]
        },
        {
          "data": {
            "text/plain": [
              "array([[   1,    2,   10,  100,   20,  200,    3],\n",
              "       [   2,    3,   20,  200,   30,  300,    4],\n",
              "       [   3,    4,   30,  300,   40,  400,    5],\n",
              "       [   4,    5,   40,  400,   50,  500,    6],\n",
              "       [   5,    6,   50,  500,   60,  600,    7],\n",
              "       [   6,    7,   60,  600,   70,  700,    8],\n",
              "       [   7,    8,   70,  700,   80,  800,    9],\n",
              "       [   8,    9,   80,  800,   90,  900,   10],\n",
              "       [   9,   10,   90,  900,  100, 1000,   11],\n",
              "       [  10,   11,  100, 1000,  110, 1100,   12]])"
            ]
          },
          "execution_count": 39,
          "metadata": {},
          "output_type": "execute_result"
        }
      ],
      "source": [
        "a = np.array([[1],[2],[3],[4],[5],[6],[7],[8],[9],[10],[11],[12]])\n",
        "b = np.array([[10, 100],[20, 200],[30, 300],[40, 400],[50, 500],[60, 600],\n",
        "              [70, 700],[80, 800],[90, 900],[100, 1000],[110, 1100],[120, 1200]])\n",
        "print(f\"Input endogs:\\n{a}\")\n",
        "print(f\"Input exogs:\\n{b}\")\n",
        "Xexample, yexample = create_ar_vars(a, b, lags=2)\n",
        "print(\"Output:\")\n",
        "np.hstack((Xexample, yexample.reshape(-1, 1)))"
      ]
    },
    {
      "cell_type": "markdown",
      "metadata": {
        "id": "C7NrqcsgiqOc"
      },
      "source": [
        "Let's create the predictor variables and the target variables for both training and test sets."
      ]
    },
    {
      "cell_type": "code",
      "execution_count": null,
      "metadata": {
        "id": "zTitxWTOiqOd"
      },
      "outputs": [],
      "source": [
        "Xtrain, ytrain = create_ar_vars(endog=train_diff[\"EUR\"].values.reshape(-1, 1), \n",
        "                                exog=train_diff[[\"GBP\", \"JPY\"]].values,\n",
        "                                lags=5)\n",
        "Xtest, ytest = create_ar_vars(endog=test_diff[\"EUR\"].values.reshape(-1, 1),\n",
        "                              exog=test_diff[[\"GBP\", \"JPY\"]].values,\n",
        "                              lags=5)"
      ]
    },
    {
      "cell_type": "markdown",
      "metadata": {
        "id": "6jJUtnH4iqOd"
      },
      "source": [
        "As usual, the predictor variables need to be scaled:"
      ]
    },
    {
      "cell_type": "code",
      "execution_count": null,
      "metadata": {
        "id": "zxaglE8UiqOd"
      },
      "outputs": [],
      "source": [
        "from sklearn.preprocessing import StandardScaler\n",
        "\n",
        "scaler = StandardScaler()\n",
        "Xtrain = scaler.fit_transform(Xtrain)\n",
        "Xtest = scaler.transform(Xtest)"
      ]
    },
    {
      "cell_type": "markdown",
      "metadata": {
        "id": "VFv4r9N6iqOd"
      },
      "source": [
        "In order to tune hyperparameters for a time-series model, we cannot use the usual cross-validation technique. Instead, we should create folds in a way that training data always precedes the validation data. In scikit-learn, this is implemented in the `TimeSeriesSplit` class.\n",
        "\n",
        "Here is an illustration how the training-validation splits are created from the full training set. The code below creates five different splits and prints out the total number of observations used in a split and the sizes of the training and validation sets. The two sets are also plotted for each of the five splits."
      ]
    },
    {
      "cell_type": "code",
      "execution_count": null,
      "metadata": {
        "id": "Q0tpvyAhiqOd",
        "outputId": "eb314b63-af53-4e73-a18e-7dc867e435d2",
        "scrolled": true
      },
      "outputs": [
        {
          "name": "stdout",
          "output_type": "stream",
          "text": [
            "Full training set size: 3184\n",
            "\n",
            "Split 1\n",
            "Observations: 1064\n",
            "Training Observations: 534\n",
            "Validation Observations: 530\n",
            "Split 2\n",
            "Observations: 1594\n",
            "Training Observations: 1064\n",
            "Validation Observations: 530\n",
            "Split 3\n",
            "Observations: 2124\n",
            "Training Observations: 1594\n",
            "Validation Observations: 530\n",
            "Split 4\n",
            "Observations: 2654\n",
            "Training Observations: 2124\n",
            "Validation Observations: 530\n",
            "Split 5\n",
            "Observations: 3184\n",
            "Training Observations: 2654\n",
            "Validation Observations: 530\n"
          ]
        },
        {
          "data": {
            "image/png": "[encoded data removed]",
            "text/plain": [
              "<Figure size 1152x576 with 5 Axes>"
            ]
          },
          "metadata": {},
          "output_type": "display_data"
        }
      ],
      "source": [
        "from sklearn.model_selection import TimeSeriesSplit, GridSearchCV\n",
        "\n",
        "tscv = TimeSeriesSplit(n_splits=5)\n",
        "plt.figure(figsize=(16, 8))\n",
        "plt.figure(1)\n",
        "print(f\"Full training set size: {Xtrain.shape[0]}\\n\")\n",
        "index = 1\n",
        "for train_index, test_index in tscv.split(Xtrain):\n",
        "    train = ytrain[train_index]\n",
        "    test = ytrain[test_index]\n",
        "    obs = len(train) + len(test)\n",
        "    print(f'Split {index}')\n",
        "    print(f'Observations: {obs}')\n",
        "    print(f'Training Observations: {len(train)}')\n",
        "    print(f'Validation Observations: {len(test)}')\n",
        "    plt.subplot(510 + index)\n",
        "    plt.plot(train)\n",
        "    plt.plot([None for i in train] + \n",
        "                 [x for x in test] + \n",
        "                 [None for i in range(obs, Xtrain.shape[0])])\n",
        "    index += 1"
      ]
    },
    {
      "cell_type": "markdown",
      "metadata": {
        "id": "Rv8dC3PDiqOe"
      },
      "source": [
        "More information on `TimeSeriesSplit` can be found in the scikit-learn [User Guide](https://scikit-learn.org/stable/modules/generated/sklearn.model_selection.TimeSeriesSplit.html).\n",
        "\n",
        "Once the validation splits have been created, we can siupply the `TimeSeriesSplit` object to the grid search tool and run it to find the best hyperparameter settings in the usual way. The code below shows an example of a Random Forest regression model trained on the data.\n",
        "\n",
        "### Random Forest"
      ]
    },
    {
      "cell_type": "code",
      "execution_count": null,
      "metadata": {
        "id": "GZ8aKsm6iqOe",
        "outputId": "f4b1629f-dcb8-4b9a-93a3-4b842f535213"
      },
      "outputs": [
        {
          "name": "stdout",
          "output_type": "stream",
          "text": [
            "Took 17.370 seconds\n"
          ]
        }
      ],
      "source": [
        "import time\n",
        "from sklearn.ensemble import RandomForestRegressor\n",
        "\n",
        "forest_reg = RandomForestRegressor(random_state=7)\n",
        "param_grid = [\n",
        "    {'n_estimators': [2, 3, 5, 10, 20, 50], \n",
        "     'max_depth': [2, 4, 6, 8, None]},\n",
        "]\n",
        "\n",
        "tscv = TimeSeriesSplit(n_splits=5)\n",
        "grid_search = GridSearchCV(estimator=forest_reg, cv=tscv,\n",
        "                        param_grid=param_grid,\n",
        "                        scoring='neg_root_mean_squared_error', \n",
        "                        return_train_score=True)\n",
        "\n",
        "start = time.time()\n",
        "grid_search.fit(Xtrain, ytrain)\n",
        "duration = time.time() - start\n",
        "print(f'Took {duration:.3f} seconds')"
      ]
    },
    {
      "cell_type": "code",
      "execution_count": null,
      "metadata": {
        "id": "Q_EiCJgpiqOe",
        "outputId": "9a846753-c7f7-430c-a615-f8b9968e1625"
      },
      "outputs": [
        {
          "data": {
            "text/plain": [
              "0.003585489529150082"
            ]
          },
          "execution_count": 44,
          "metadata": {},
          "output_type": "execute_result"
        }
      ],
      "source": [
        "-grid_search.best_score_"
      ]
    },
    {
      "cell_type": "code",
      "execution_count": null,
      "metadata": {
        "id": "kADWuazaiqOe",
        "outputId": "48939d5c-603b-4b4f-f6b1-e3b6913ae0ba"
      },
      "outputs": [
        {
          "data": {
            "text/html": [
              "<div>\n",
              "<style scoped>\n",
              "    .dataframe tbody tr th:only-of-type {\n",
              "        vertical-align: middle;\n",
              "    }\n",
              "\n",
              "    .dataframe tbody tr th {\n",
              "        vertical-align: top;\n",
              "    }\n",
              "\n",
              "    .dataframe thead th {\n",
              "        text-align: right;\n",
              "    }\n",
              "</style>\n",
              "<table border=\"1\" class=\"dataframe\">\n",
              "  <thead>\n",
              "    <tr style=\"text-align: right;\">\n",
              "      <th></th>\n",
              "      <th>params</th>\n",
              "      <th>mean_train_score</th>\n",
              "      <th>mean_test_score</th>\n",
              "      <th>diff, %</th>\n",
              "    </tr>\n",
              "  </thead>\n",
              "  <tbody>\n",
              "    <tr>\n",
              "      <th>4</th>\n",
              "      <td>{'max_depth': 2, 'n_estimators': 20}</td>\n",
              "      <td>0.004203</td>\n",
              "      <td>0.003585</td>\n",
              "      <td>14.687499</td>\n",
              "    </tr>\n",
              "    <tr>\n",
              "      <th>2</th>\n",
              "      <td>{'max_depth': 2, 'n_estimators': 5}</td>\n",
              "      <td>0.004221</td>\n",
              "      <td>0.003586</td>\n",
              "      <td>15.048277</td>\n",
              "    </tr>\n",
              "    <tr>\n",
              "      <th>3</th>\n",
              "      <td>{'max_depth': 2, 'n_estimators': 10}</td>\n",
              "      <td>0.004207</td>\n",
              "      <td>0.003588</td>\n",
              "      <td>14.713371</td>\n",
              "    </tr>\n",
              "    <tr>\n",
              "      <th>1</th>\n",
              "      <td>{'max_depth': 2, 'n_estimators': 3}</td>\n",
              "      <td>0.004242</td>\n",
              "      <td>0.003591</td>\n",
              "      <td>15.335277</td>\n",
              "    </tr>\n",
              "    <tr>\n",
              "      <th>5</th>\n",
              "      <td>{'max_depth': 2, 'n_estimators': 50}</td>\n",
              "      <td>0.004202</td>\n",
              "      <td>0.003593</td>\n",
              "      <td>14.499261</td>\n",
              "    </tr>\n",
              "    <tr>\n",
              "      <th>10</th>\n",
              "      <td>{'max_depth': 4, 'n_estimators': 20}</td>\n",
              "      <td>0.004006</td>\n",
              "      <td>0.003594</td>\n",
              "      <td>10.274522</td>\n",
              "    </tr>\n",
              "    <tr>\n",
              "      <th>11</th>\n",
              "      <td>{'max_depth': 4, 'n_estimators': 50}</td>\n",
              "      <td>0.004009</td>\n",
              "      <td>0.003599</td>\n",
              "      <td>10.239962</td>\n",
              "    </tr>\n",
              "    <tr>\n",
              "      <th>17</th>\n",
              "      <td>{'max_depth': 6, 'n_estimators': 50}</td>\n",
              "      <td>0.003723</td>\n",
              "      <td>0.003602</td>\n",
              "      <td>3.262618</td>\n",
              "    </tr>\n",
              "    <tr>\n",
              "      <th>9</th>\n",
              "      <td>{'max_depth': 4, 'n_estimators': 10}</td>\n",
              "      <td>0.004028</td>\n",
              "      <td>0.003608</td>\n",
              "      <td>10.432449</td>\n",
              "    </tr>\n",
              "    <tr>\n",
              "      <th>0</th>\n",
              "      <td>{'max_depth': 2, 'n_estimators': 2}</td>\n",
              "      <td>0.004255</td>\n",
              "      <td>0.003612</td>\n",
              "      <td>15.113970</td>\n",
              "    </tr>\n",
              "    <tr>\n",
              "      <th>16</th>\n",
              "      <td>{'max_depth': 6, 'n_estimators': 20}</td>\n",
              "      <td>0.003717</td>\n",
              "      <td>0.003613</td>\n",
              "      <td>2.808144</td>\n",
              "    </tr>\n",
              "    <tr>\n",
              "      <th>23</th>\n",
              "      <td>{'max_depth': 8, 'n_estimators': 50}</td>\n",
              "      <td>0.003384</td>\n",
              "      <td>0.003621</td>\n",
              "      <td>-7.019429</td>\n",
              "    </tr>\n",
              "    <tr>\n",
              "      <th>15</th>\n",
              "      <td>{'max_depth': 6, 'n_estimators': 10}</td>\n",
              "      <td>0.003747</td>\n",
              "      <td>0.003637</td>\n",
              "      <td>2.932431</td>\n",
              "    </tr>\n",
              "    <tr>\n",
              "      <th>8</th>\n",
              "      <td>{'max_depth': 4, 'n_estimators': 5}</td>\n",
              "      <td>0.004063</td>\n",
              "      <td>0.003638</td>\n",
              "      <td>10.455327</td>\n",
              "    </tr>\n",
              "    <tr>\n",
              "      <th>22</th>\n",
              "      <td>{'max_depth': 8, 'n_estimators': 20}</td>\n",
              "      <td>0.003378</td>\n",
              "      <td>0.003648</td>\n",
              "      <td>-7.979186</td>\n",
              "    </tr>\n",
              "    <tr>\n",
              "      <th>7</th>\n",
              "      <td>{'max_depth': 4, 'n_estimators': 3}</td>\n",
              "      <td>0.004113</td>\n",
              "      <td>0.003657</td>\n",
              "      <td>11.103899</td>\n",
              "    </tr>\n",
              "    <tr>\n",
              "      <th>21</th>\n",
              "      <td>{'max_depth': 8, 'n_estimators': 10}</td>\n",
              "      <td>0.003421</td>\n",
              "      <td>0.003692</td>\n",
              "      <td>-7.922521</td>\n",
              "    </tr>\n",
              "    <tr>\n",
              "      <th>29</th>\n",
              "      <td>{'max_depth': None, 'n_estimators': 50}</td>\n",
              "      <td>0.001710</td>\n",
              "      <td>0.003696</td>\n",
              "      <td>-116.168793</td>\n",
              "    </tr>\n",
              "    <tr>\n",
              "      <th>6</th>\n",
              "      <td>{'max_depth': 4, 'n_estimators': 2}</td>\n",
              "      <td>0.004160</td>\n",
              "      <td>0.003708</td>\n",
              "      <td>10.870989</td>\n",
              "    </tr>\n",
              "    <tr>\n",
              "      <th>14</th>\n",
              "      <td>{'max_depth': 6, 'n_estimators': 5}</td>\n",
              "      <td>0.003814</td>\n",
              "      <td>0.003713</td>\n",
              "      <td>2.633133</td>\n",
              "    </tr>\n",
              "    <tr>\n",
              "      <th>28</th>\n",
              "      <td>{'max_depth': None, 'n_estimators': 20}</td>\n",
              "      <td>0.001823</td>\n",
              "      <td>0.003774</td>\n",
              "      <td>-107.000635</td>\n",
              "    </tr>\n",
              "    <tr>\n",
              "      <th>13</th>\n",
              "      <td>{'max_depth': 6, 'n_estimators': 3}</td>\n",
              "      <td>0.003923</td>\n",
              "      <td>0.003775</td>\n",
              "      <td>3.769175</td>\n",
              "    </tr>\n",
              "    <tr>\n",
              "      <th>20</th>\n",
              "      <td>{'max_depth': 8, 'n_estimators': 5}</td>\n",
              "      <td>0.003530</td>\n",
              "      <td>0.003800</td>\n",
              "      <td>-7.659763</td>\n",
              "    </tr>\n",
              "    <tr>\n",
              "      <th>12</th>\n",
              "      <td>{'max_depth': 6, 'n_estimators': 2}</td>\n",
              "      <td>0.004016</td>\n",
              "      <td>0.003866</td>\n",
              "      <td>3.722161</td>\n",
              "    </tr>\n",
              "    <tr>\n",
              "      <th>27</th>\n",
              "      <td>{'max_depth': None, 'n_estimators': 10}</td>\n",
              "      <td>0.002002</td>\n",
              "      <td>0.003887</td>\n",
              "      <td>-94.178275</td>\n",
              "    </tr>\n",
              "    <tr>\n",
              "      <th>19</th>\n",
              "      <td>{'max_depth': 8, 'n_estimators': 3}</td>\n",
              "      <td>0.003685</td>\n",
              "      <td>0.003948</td>\n",
              "      <td>-7.137813</td>\n",
              "    </tr>\n",
              "    <tr>\n",
              "      <th>18</th>\n",
              "      <td>{'max_depth': 8, 'n_estimators': 2}</td>\n",
              "      <td>0.003837</td>\n",
              "      <td>0.004105</td>\n",
              "      <td>-6.979863</td>\n",
              "    </tr>\n",
              "    <tr>\n",
              "      <th>26</th>\n",
              "      <td>{'max_depth': None, 'n_estimators': 5}</td>\n",
              "      <td>0.002310</td>\n",
              "      <td>0.004133</td>\n",
              "      <td>-78.948738</td>\n",
              "    </tr>\n",
              "    <tr>\n",
              "      <th>25</th>\n",
              "      <td>{'max_depth': None, 'n_estimators': 3}</td>\n",
              "      <td>0.002663</td>\n",
              "      <td>0.004513</td>\n",
              "      <td>-69.465449</td>\n",
              "    </tr>\n",
              "    <tr>\n",
              "      <th>24</th>\n",
              "      <td>{'max_depth': None, 'n_estimators': 2}</td>\n",
              "      <td>0.002986</td>\n",
              "      <td>0.004894</td>\n",
              "      <td>-63.891419</td>\n",
              "    </tr>\n",
              "  </tbody>\n",
              "</table>\n",
              "</div>"
            ],
            "text/plain": [
              "                                     params  mean_train_score  \\\n",
              "4      {'max_depth': 2, 'n_estimators': 20}          0.004203   \n",
              "2       {'max_depth': 2, 'n_estimators': 5}          0.004221   \n",
              "3      {'max_depth': 2, 'n_estimators': 10}          0.004207   \n",
              "1       {'max_depth': 2, 'n_estimators': 3}          0.004242   \n",
              "5      {'max_depth': 2, 'n_estimators': 50}          0.004202   \n",
              "10     {'max_depth': 4, 'n_estimators': 20}          0.004006   \n",
              "11     {'max_depth': 4, 'n_estimators': 50}          0.004009   \n",
              "17     {'max_depth': 6, 'n_estimators': 50}          0.003723   \n",
              "9      {'max_depth': 4, 'n_estimators': 10}          0.004028   \n",
              "0       {'max_depth': 2, 'n_estimators': 2}          0.004255   \n",
              "16     {'max_depth': 6, 'n_estimators': 20}          0.003717   \n",
              "23     {'max_depth': 8, 'n_estimators': 50}          0.003384   \n",
              "15     {'max_depth': 6, 'n_estimators': 10}          0.003747   \n",
              "8       {'max_depth': 4, 'n_estimators': 5}          0.004063   \n",
              "22     {'max_depth': 8, 'n_estimators': 20}          0.003378   \n",
              "7       {'max_depth': 4, 'n_estimators': 3}          0.004113   \n",
              "21     {'max_depth': 8, 'n_estimators': 10}          0.003421   \n",
              "29  {'max_depth': None, 'n_estimators': 50}          0.001710   \n",
              "6       {'max_depth': 4, 'n_estimators': 2}          0.004160   \n",
              "14      {'max_depth': 6, 'n_estimators': 5}          0.003814   \n",
              "28  {'max_depth': None, 'n_estimators': 20}          0.001823   \n",
              "13      {'max_depth': 6, 'n_estimators': 3}          0.003923   \n",
              "20      {'max_depth': 8, 'n_estimators': 5}          0.003530   \n",
              "12      {'max_depth': 6, 'n_estimators': 2}          0.004016   \n",
              "27  {'max_depth': None, 'n_estimators': 10}          0.002002   \n",
              "19      {'max_depth': 8, 'n_estimators': 3}          0.003685   \n",
              "18      {'max_depth': 8, 'n_estimators': 2}          0.003837   \n",
              "26   {'max_depth': None, 'n_estimators': 5}          0.002310   \n",
              "25   {'max_depth': None, 'n_estimators': 3}          0.002663   \n",
              "24   {'max_depth': None, 'n_estimators': 2}          0.002986   \n",
              "\n",
              "    mean_test_score     diff, %  \n",
              "4          0.003585   14.687499  \n",
              "2          0.003586   15.048277  \n",
              "3          0.003588   14.713371  \n",
              "1          0.003591   15.335277  \n",
              "5          0.003593   14.499261  \n",
              "10         0.003594   10.274522  \n",
              "11         0.003599   10.239962  \n",
              "17         0.003602    3.262618  \n",
              "9          0.003608   10.432449  \n",
              "0          0.003612   15.113970  \n",
              "16         0.003613    2.808144  \n",
              "23         0.003621   -7.019429  \n",
              "15         0.003637    2.932431  \n",
              "8          0.003638   10.455327  \n",
              "22         0.003648   -7.979186  \n",
              "7          0.003657   11.103899  \n",
              "21         0.003692   -7.922521  \n",
              "29         0.003696 -116.168793  \n",
              "6          0.003708   10.870989  \n",
              "14         0.003713    2.633133  \n",
              "28         0.003774 -107.000635  \n",
              "13         0.003775    3.769175  \n",
              "20         0.003800   -7.659763  \n",
              "12         0.003866    3.722161  \n",
              "27         0.003887  -94.178275  \n",
              "19         0.003948   -7.137813  \n",
              "18         0.004105   -6.979863  \n",
              "26         0.004133  -78.948738  \n",
              "25         0.004513  -69.465449  \n",
              "24         0.004894  -63.891419  "
            ]
          },
          "execution_count": 45,
          "metadata": {},
          "output_type": "execute_result"
        }
      ],
      "source": [
        "cv_results = pd.DataFrame(grid_search.cv_results_)[['params', 'mean_train_score', \n",
        "                                                    'mean_test_score']]\n",
        "cv_results[\"mean_train_score\"] = -cv_results[\"mean_train_score\"]\n",
        "cv_results[\"mean_test_score\"] = -cv_results[\"mean_test_score\"]\n",
        "cv_results[\"diff, %\"] = 100*(cv_results[\"mean_train_score\"]-cv_results[\"mean_test_score\"]\n",
        "                                                     )/cv_results[\"mean_train_score\"]\n",
        "\n",
        "cv_results.sort_values('mean_test_score')"
      ]
    },
    {
      "cell_type": "markdown",
      "metadata": {
        "id": "UlVdzdogiqOe"
      },
      "source": [
        "### Support Vector Regression with the RBF kernel"
      ]
    },
    {
      "cell_type": "code",
      "execution_count": null,
      "metadata": {
        "id": "Bu2ub-5riqOe",
        "outputId": "f54db7e4-a571-4b4d-da95-6aa30bbba9db"
      },
      "outputs": [
        {
          "name": "stdout",
          "output_type": "stream",
          "text": [
            "Took 284.464 seconds\n"
          ]
        }
      ],
      "source": [
        "from sklearn.svm import SVR\n",
        "\n",
        "svr = SVR(kernel=\"rbf\")\n",
        "param_grid = [\n",
        "        {\n",
        "            \"C\": [0.001, 0.005, 0.01, 0.05, 0.1, 1.0, 5.0],\n",
        "            \"epsilon\": [0.001, 0.01],\n",
        "            \"gamma\": [0.0001, 0.001, 0.01, 0.1, \"scale\", \"auto\"]\n",
        "        }\n",
        "]\n",
        "\n",
        "tscv = TimeSeriesSplit(n_splits=5)\n",
        "grid_search = GridSearchCV(estimator=svr, cv=tscv,\n",
        "                        param_grid=param_grid,\n",
        "                        scoring='neg_root_mean_squared_error', \n",
        "                        return_train_score=True)\n",
        "\n",
        "start = time.time()\n",
        "grid_search.fit(Xtrain, ytrain)\n",
        "duration = time.time() - start\n",
        "print(f'Took {duration:.3f} seconds')"
      ]
    },
    {
      "cell_type": "code",
      "execution_count": null,
      "metadata": {
        "id": "tVzy_un7iqOf",
        "outputId": "56008a64-3b7f-4883-fcaf-2253057d7871"
      },
      "outputs": [
        {
          "data": {
            "text/plain": [
              "0.0035743853257706507"
            ]
          },
          "execution_count": 47,
          "metadata": {},
          "output_type": "execute_result"
        }
      ],
      "source": [
        "-grid_search.best_score_"
      ]
    },
    {
      "cell_type": "code",
      "execution_count": null,
      "metadata": {
        "id": "fbjGT_EjiqOf",
        "outputId": "658cdd5c-594a-4a99-95b5-be3e3fb1f28f"
      },
      "outputs": [
        {
          "data": {
            "text/html": [
              "<div>\n",
              "<style scoped>\n",
              "    .dataframe tbody tr th:only-of-type {\n",
              "        vertical-align: middle;\n",
              "    }\n",
              "\n",
              "    .dataframe tbody tr th {\n",
              "        vertical-align: top;\n",
              "    }\n",
              "\n",
              "    .dataframe thead th {\n",
              "        text-align: right;\n",
              "    }\n",
              "</style>\n",
              "<table border=\"1\" class=\"dataframe\">\n",
              "  <thead>\n",
              "    <tr style=\"text-align: right;\">\n",
              "      <th></th>\n",
              "      <th>params</th>\n",
              "      <th>mean_train_score</th>\n",
              "      <th>mean_test_score</th>\n",
              "      <th>diff, %</th>\n",
              "    </tr>\n",
              "  </thead>\n",
              "  <tbody>\n",
              "    <tr>\n",
              "      <th>3</th>\n",
              "      <td>{'C': 0.001, 'epsilon': 0.001, 'gamma': 0.1}</td>\n",
              "      <td>0.003995</td>\n",
              "      <td>0.003574</td>\n",
              "      <td>10.522921</td>\n",
              "    </tr>\n",
              "    <tr>\n",
              "      <th>22</th>\n",
              "      <td>{'C': 0.005, 'epsilon': 0.01, 'gamma': 'scale'}</td>\n",
              "      <td>0.004200</td>\n",
              "      <td>0.003577</td>\n",
              "      <td>14.851804</td>\n",
              "    </tr>\n",
              "    <tr>\n",
              "      <th>9</th>\n",
              "      <td>{'C': 0.001, 'epsilon': 0.01, 'gamma': 0.1}</td>\n",
              "      <td>0.004236</td>\n",
              "      <td>0.003578</td>\n",
              "      <td>15.527205</td>\n",
              "    </tr>\n",
              "    <tr>\n",
              "      <th>10</th>\n",
              "      <td>{'C': 0.001, 'epsilon': 0.01, 'gamma': 'scale'}</td>\n",
              "      <td>0.004253</td>\n",
              "      <td>0.003579</td>\n",
              "      <td>15.853377</td>\n",
              "    </tr>\n",
              "    <tr>\n",
              "      <th>11</th>\n",
              "      <td>{'C': 0.001, 'epsilon': 0.01, 'gamma': 'auto'}</td>\n",
              "      <td>0.004252</td>\n",
              "      <td>0.003579</td>\n",
              "      <td>15.816294</td>\n",
              "    </tr>\n",
              "    <tr>\n",
              "      <th>...</th>\n",
              "      <td>...</td>\n",
              "      <td>...</td>\n",
              "      <td>...</td>\n",
              "      <td>...</td>\n",
              "    </tr>\n",
              "    <tr>\n",
              "      <th>64</th>\n",
              "      <td>{'C': 1.0, 'epsilon': 0.001, 'gamma': 'scale'}</td>\n",
              "      <td>0.001336</td>\n",
              "      <td>0.005681</td>\n",
              "      <td>-325.268587</td>\n",
              "    </tr>\n",
              "    <tr>\n",
              "      <th>65</th>\n",
              "      <td>{'C': 1.0, 'epsilon': 0.001, 'gamma': 'auto'}</td>\n",
              "      <td>0.001324</td>\n",
              "      <td>0.005723</td>\n",
              "      <td>-332.449177</td>\n",
              "    </tr>\n",
              "    <tr>\n",
              "      <th>75</th>\n",
              "      <td>{'C': 5.0, 'epsilon': 0.001, 'gamma': 0.1}</td>\n",
              "      <td>0.001074</td>\n",
              "      <td>0.005915</td>\n",
              "      <td>-450.545188</td>\n",
              "    </tr>\n",
              "    <tr>\n",
              "      <th>76</th>\n",
              "      <td>{'C': 5.0, 'epsilon': 0.001, 'gamma': 'scale'}</td>\n",
              "      <td>0.001134</td>\n",
              "      <td>0.006667</td>\n",
              "      <td>-488.088714</td>\n",
              "    </tr>\n",
              "    <tr>\n",
              "      <th>77</th>\n",
              "      <td>{'C': 5.0, 'epsilon': 0.001, 'gamma': 'auto'}</td>\n",
              "      <td>0.001138</td>\n",
              "      <td>0.006728</td>\n",
              "      <td>-491.025209</td>\n",
              "    </tr>\n",
              "  </tbody>\n",
              "</table>\n",
              "<p>84 rows × 4 columns</p>\n",
              "</div>"
            ],
            "text/plain": [
              "                                             params  mean_train_score  \\\n",
              "3      {'C': 0.001, 'epsilon': 0.001, 'gamma': 0.1}          0.003995   \n",
              "22  {'C': 0.005, 'epsilon': 0.01, 'gamma': 'scale'}          0.004200   \n",
              "9       {'C': 0.001, 'epsilon': 0.01, 'gamma': 0.1}          0.004236   \n",
              "10  {'C': 0.001, 'epsilon': 0.01, 'gamma': 'scale'}          0.004253   \n",
              "11   {'C': 0.001, 'epsilon': 0.01, 'gamma': 'auto'}          0.004252   \n",
              "..                                              ...               ...   \n",
              "64   {'C': 1.0, 'epsilon': 0.001, 'gamma': 'scale'}          0.001336   \n",
              "65    {'C': 1.0, 'epsilon': 0.001, 'gamma': 'auto'}          0.001324   \n",
              "75       {'C': 5.0, 'epsilon': 0.001, 'gamma': 0.1}          0.001074   \n",
              "76   {'C': 5.0, 'epsilon': 0.001, 'gamma': 'scale'}          0.001134   \n",
              "77    {'C': 5.0, 'epsilon': 0.001, 'gamma': 'auto'}          0.001138   \n",
              "\n",
              "    mean_test_score     diff, %  \n",
              "3          0.003574   10.522921  \n",
              "22         0.003577   14.851804  \n",
              "9          0.003578   15.527205  \n",
              "10         0.003579   15.853377  \n",
              "11         0.003579   15.816294  \n",
              "..              ...         ...  \n",
              "64         0.005681 -325.268587  \n",
              "65         0.005723 -332.449177  \n",
              "75         0.005915 -450.545188  \n",
              "76         0.006667 -488.088714  \n",
              "77         0.006728 -491.025209  \n",
              "\n",
              "[84 rows x 4 columns]"
            ]
          },
          "execution_count": 48,
          "metadata": {},
          "output_type": "execute_result"
        }
      ],
      "source": [
        "cv_results = pd.DataFrame(grid_search.cv_results_)[['params', 'mean_train_score', 'mean_test_score']]\n",
        "cv_results[\"mean_train_score\"] = -cv_results[\"mean_train_score\"]\n",
        "cv_results[\"mean_test_score\"] = -cv_results[\"mean_test_score\"]\n",
        "cv_results[\"diff, %\"] = 100*(cv_results[\"mean_train_score\"]-cv_results[\"mean_test_score\"]\n",
        "                                                     )/cv_results[\"mean_train_score\"]\n",
        "\n",
        "cv_results.sort_values('mean_test_score')"
      ]
    },
    {
      "cell_type": "markdown",
      "metadata": {
        "id": "P8en3HIgiqOf"
      },
      "source": [
        "There are no obvious signs of overfitting."
      ]
    },
    {
      "cell_type": "markdown",
      "metadata": {
        "id": "rHlyUD3_iqOf"
      },
      "source": [
        "### Evaluate the best SVR model on the test data"
      ]
    },
    {
      "cell_type": "code",
      "execution_count": null,
      "metadata": {
        "id": "sLBU2IVZiqOf",
        "outputId": "339bad30-9276-4ff0-88e5-7eb1cf5b8fa0"
      },
      "outputs": [
        {
          "data": {
            "text/plain": [
              "0.0029709194648806737"
            ]
          },
          "execution_count": 49,
          "metadata": {},
          "output_type": "execute_result"
        }
      ],
      "source": [
        "best_model = grid_search.best_estimator_\n",
        "\n",
        "yhat = best_model.predict(Xtest)\n",
        "\n",
        "svr_mse = mean_squared_error(ytest, yhat)\n",
        "svr_rmse = np.sqrt(svr_mse)\n",
        "svr_rmse"
      ]
    },
    {
      "cell_type": "code",
      "execution_count": null,
      "metadata": {
        "id": "nuQODSVAiqOf",
        "outputId": "21a79377-ac3c-415e-cffa-ea72e21dc43b"
      },
      "outputs": [
        {
          "data": {
            "text/plain": [
              "0.43742098609355246"
            ]
          },
          "execution_count": 50,
          "metadata": {},
          "output_type": "execute_result"
        }
      ],
      "source": [
        "svr_mda = get_mda(ytest, yhat)\n",
        "svr_mda"
      ]
    },
    {
      "cell_type": "markdown",
      "metadata": {
        "id": "A1O9MBpJiqOg"
      },
      "source": [
        "Let's plot the forecasted values."
      ]
    },
    {
      "cell_type": "code",
      "execution_count": null,
      "metadata": {
        "id": "RwNLiHHaiqOg",
        "outputId": "08e4605f-394b-4d44-dfa1-6c4cb4411224"
      },
      "outputs": [
        {
          "data": {
            "text/plain": [
              "<AxesSubplot:>"
            ]
          },
          "execution_count": 51,
          "metadata": {},
          "output_type": "execute_result"
        },
        {
          "data": {
            "image/png": "[encoded data removed]",
            "text/plain": [
              "<Figure size 1152x288 with 1 Axes>"
            ]
          },
          "metadata": {},
          "output_type": "display_data"
        }
      ],
      "source": [
        "pd.DataFrame({\"true\": ytest[:200], \"predicted\": yhat[:200]}).plot(figsize=(16, 4))"
      ]
    },
    {
      "cell_type": "markdown",
      "metadata": {
        "id": "y3NtecIIiqOg"
      },
      "source": [
        "# Summary\n",
        "\n",
        "## RMSE results"
      ]
    },
    {
      "cell_type": "code",
      "execution_count": null,
      "metadata": {
        "id": "Ul1n6xM1iqOg",
        "outputId": "bca962be-2143-4be0-d850-a845ab2a55e7"
      },
      "outputs": [
        {
          "data": {
            "text/html": [
              "<div>\n",
              "<style scoped>\n",
              "    .dataframe tbody tr th:only-of-type {\n",
              "        vertical-align: middle;\n",
              "    }\n",
              "\n",
              "    .dataframe tbody tr th {\n",
              "        vertical-align: top;\n",
              "    }\n",
              "\n",
              "    .dataframe thead th {\n",
              "        text-align: right;\n",
              "    }\n",
              "</style>\n",
              "<table border=\"1\" class=\"dataframe\">\n",
              "  <thead>\n",
              "    <tr style=\"text-align: right;\">\n",
              "      <th></th>\n",
              "      <th>RMSE</th>\n",
              "      <th>% Change on Pers. baseline</th>\n",
              "      <th>% Change on Mean baseline</th>\n",
              "    </tr>\n",
              "    <tr>\n",
              "      <th>method</th>\n",
              "      <th></th>\n",
              "      <th></th>\n",
              "      <th></th>\n",
              "    </tr>\n",
              "  </thead>\n",
              "  <tbody>\n",
              "    <tr>\n",
              "      <th>Persistence baseline</th>\n",
              "      <td>0.003633</td>\n",
              "      <td>0.000000</td>\n",
              "      <td>19.311928</td>\n",
              "    </tr>\n",
              "    <tr>\n",
              "      <th>Mean baseline</th>\n",
              "      <td>0.003045</td>\n",
              "      <td>-16.186083</td>\n",
              "      <td>0.000000</td>\n",
              "    </tr>\n",
              "    <tr>\n",
              "      <th>ARIMA</th>\n",
              "      <td>0.003510</td>\n",
              "      <td>-3.393107</td>\n",
              "      <td>15.263546</td>\n",
              "    </tr>\n",
              "    <tr>\n",
              "      <th>SVR</th>\n",
              "      <td>0.002971</td>\n",
              "      <td>-18.230117</td>\n",
              "      <td>-2.438777</td>\n",
              "    </tr>\n",
              "  </tbody>\n",
              "</table>\n",
              "</div>"
            ],
            "text/plain": [
              "                          RMSE  % Change on Pers. baseline  \\\n",
              "method                                                       \n",
              "Persistence baseline  0.003633                    0.000000   \n",
              "Mean baseline         0.003045                  -16.186083   \n",
              "ARIMA                 0.003510                   -3.393107   \n",
              "SVR                   0.002971                  -18.230117   \n",
              "\n",
              "                      % Change on Mean baseline  \n",
              "method                                           \n",
              "Persistence baseline                  19.311928  \n",
              "Mean baseline                          0.000000  \n",
              "ARIMA                                 15.263546  \n",
              "SVR                                   -2.438777  "
            ]
          },
          "execution_count": 52,
          "metadata": {},
          "output_type": "execute_result"
        }
      ],
      "source": [
        "rmse_table = pd.DataFrame({\n",
        "    'method': ['Persistence baseline', 'Mean baseline', 'ARIMA', 'SVR'],\n",
        "    'RMSE': [pers_baseline_rmse, mean_baseline_rmse, arima_rmse, svr_rmse],\n",
        "})\n",
        "\n",
        "rmse_table.set_index(\"method\", inplace=True)\n",
        "\n",
        "# add columns with percent changes on the baselines\n",
        "rmse_table['% Change on Pers. baseline'] = 100 * rmse_table['RMSE'] / pers_baseline_rmse - 100\n",
        "rmse_table['% Change on Mean baseline'] = 100 * rmse_table['RMSE'] / mean_baseline_rmse - 100\n",
        "\n",
        "rmse_table"
      ]
    },
    {
      "cell_type": "markdown",
      "metadata": {
        "id": "A1zsIzEFiqOg"
      },
      "source": [
        "In terms of RMSE, SVR produced better results than ARIMA, and has an 18\\% RMSE reduction on the persistence baseline and 2.3\\% reduction on the mean baseline.\n",
        "\n",
        "## MDA results"
      ]
    },
    {
      "cell_type": "code",
      "execution_count": null,
      "metadata": {
        "id": "p596-wyhiqOg",
        "outputId": "0b8b7fd0-3bd6-478b-b3b6-047c68c99b3a"
      },
      "outputs": [
        {
          "data": {
            "text/html": [
              "<div>\n",
              "<style scoped>\n",
              "    .dataframe tbody tr th:only-of-type {\n",
              "        vertical-align: middle;\n",
              "    }\n",
              "\n",
              "    .dataframe tbody tr th {\n",
              "        vertical-align: top;\n",
              "    }\n",
              "\n",
              "    .dataframe thead th {\n",
              "        text-align: right;\n",
              "    }\n",
              "</style>\n",
              "<table border=\"1\" class=\"dataframe\">\n",
              "  <thead>\n",
              "    <tr style=\"text-align: right;\">\n",
              "      <th></th>\n",
              "      <th>MDA</th>\n",
              "      <th>% Change on Pers. baseline, MDA</th>\n",
              "      <th>% Change on Mean baseline, MDA</th>\n",
              "    </tr>\n",
              "    <tr>\n",
              "      <th>method</th>\n",
              "      <th></th>\n",
              "      <th></th>\n",
              "      <th></th>\n",
              "    </tr>\n",
              "  </thead>\n",
              "  <tbody>\n",
              "    <tr>\n",
              "      <th>Persistence baseline</th>\n",
              "      <td>0.387421</td>\n",
              "      <td>0.000000</td>\n",
              "      <td>3.754843e+03</td>\n",
              "    </tr>\n",
              "    <tr>\n",
              "      <th>Mean baseline</th>\n",
              "      <td>0.010050</td>\n",
              "      <td>-97.405860</td>\n",
              "      <td>-1.421085e-14</td>\n",
              "    </tr>\n",
              "    <tr>\n",
              "      <th>ARIMA</th>\n",
              "      <td>0.381910</td>\n",
              "      <td>-1.422698</td>\n",
              "      <td>3.700000e+03</td>\n",
              "    </tr>\n",
              "    <tr>\n",
              "      <th>SVR</th>\n",
              "      <td>0.437421</td>\n",
              "      <td>12.905742</td>\n",
              "      <td>4.252339e+03</td>\n",
              "    </tr>\n",
              "  </tbody>\n",
              "</table>\n",
              "</div>"
            ],
            "text/plain": [
              "                           MDA  % Change on Pers. baseline, MDA  \\\n",
              "method                                                            \n",
              "Persistence baseline  0.387421                         0.000000   \n",
              "Mean baseline         0.010050                       -97.405860   \n",
              "ARIMA                 0.381910                        -1.422698   \n",
              "SVR                   0.437421                        12.905742   \n",
              "\n",
              "                      % Change on Mean baseline, MDA  \n",
              "method                                                \n",
              "Persistence baseline                    3.754843e+03  \n",
              "Mean baseline                          -1.421085e-14  \n",
              "ARIMA                                   3.700000e+03  \n",
              "SVR                                     4.252339e+03  "
            ]
          },
          "execution_count": 53,
          "metadata": {},
          "output_type": "execute_result"
        }
      ],
      "source": [
        "mda_table = pd.DataFrame({\n",
        "    'method': ['Persistence baseline', 'Mean baseline', 'ARIMA', 'SVR'],\n",
        "    'MDA': [pers_baseline_mda, mean_baseline_mda, arima_mda, svr_mda]\n",
        "})\n",
        "\n",
        "mda_table.set_index(\"method\", inplace=True)\n",
        "\n",
        "# add columns with percent changes on the baselines\n",
        "mda_table['% Change on Pers. baseline, MDA'] = 100 * mda_table['MDA'] / pers_baseline_mda - 100\n",
        "mda_table['% Change on Mean baseline, MDA'] = 100 * mda_table['MDA'] / mean_baseline_mda - 100\n",
        "mda_table"
      ]
    },
    {
      "cell_type": "markdown",
      "metadata": {
        "id": "t-9xtbH1iqOh"
      },
      "source": [
        "In terms of MDA, SVR is also a better performer than ARIMA. Its MDA improves on the persistence baseline by 12\\% and compared the mean baseline, the MDA is 40+ times lower."
      ]
    },
    {
      "cell_type": "code",
      "execution_count": null,
      "metadata": {
        "id": "JOY-IrSOiqOh"
      },
      "outputs": [],
      "source": []
    }
  ],
  "metadata": {
    "colab": {
      "provenance": [],
      "include_colab_link": true
    },
    "kernelspec": {
      "display_name": "Python 3 (ipykernel)",
      "language": "python",
      "name": "python3"
    },
    "language_info": {
      "codemirror_mode": {
        "name": "ipython",
        "version": 3
      },
      "file_extension": ".py",
      "mimetype": "text/x-python",
      "name": "python",
      "nbconvert_exporter": "python",
      "pygments_lexer": "ipython3",
      "version": "3.9.7"
    },
    "toc": {
      "base_numbering": 1,
      "nav_menu": {},
      "number_sections": true,
      "sideBar": true,
      "skip_h1_title": false,
      "title_cell": "Table of Contents",
      "title_sidebar": "Contents",
      "toc_cell": false,
      "toc_position": {},
      "toc_section_display": true,
      "toc_window_display": false
    }
  },
  "nbformat": 4,
  "nbformat_minor": 0
}